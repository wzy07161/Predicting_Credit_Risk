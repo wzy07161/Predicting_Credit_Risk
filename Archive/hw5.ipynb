{
 "cells": [
  {
   "cell_type": "code",
   "execution_count": 51,
   "metadata": {
    "deletable": false,
    "editable": false
   },
   "outputs": [],
   "source": [
    "# Initialize Otter\n",
    "import otter\n",
    "grader = otter.Notebook(\"hw5.ipynb\")"
   ]
  },
  {
   "cell_type": "markdown",
   "metadata": {},
   "source": [
    "# CPSC 330 - Applied Machine Learning \n",
    "\n",
    "## Homework 5: Putting it all together \n",
    "### Associated lectures: All material till lecture 13 \n",
    "\n",
    "**Due date: [Monday, Mar 10, 11:59 pm](https://github.com/UBC-CS/cpsc330-2024W2?tab=readme-ov-file#deliverable-due-dates-tentative)**"
   ]
  },
  {
   "cell_type": "markdown",
   "metadata": {},
   "source": [
    "## Table of contents\n",
    "0. [Submission instructions](#si)\n",
    "1. [Understanding the problem](#1)\n",
    "2. [Data splitting](#2)\n",
    "3. [EDA](#3)\n",
    "4. [Feature engineering](#4)\n",
    "5. [Preprocessing and transformations](#5) \n",
    "6. [Baseline model](#6)\n",
    "7. [Linear models](#7)\n",
    "8. [Different models](#8)\n",
    "9. [Feature selection](#9)\n",
    "10. [Hyperparameter optimization](#10)\n",
    "11. [Interpretation and feature importances](#11) \n",
    "12. [Results on the test set](#12)\n",
    "13. [Summary of the results](#13)\n",
    "14. [Your takeaway from the course](#15)"
   ]
  },
  {
   "cell_type": "markdown",
   "metadata": {},
   "source": [
    "<div class=\"alert alert-info\">\n",
    "\n",
    "## Submission instructions\n",
    "<hr>\n",
    "rubric={points:4}\n",
    "\n",
    "**You may work with a partner on this homework and submit your assignment as a group.** Below are some instructions on working as a group.  \n",
    "- The maximum group size is 2. \n",
    "- Use group work as an opportunity to collaborate and learn new things from each other. \n",
    "- Be respectful to each other and make sure you understand all the concepts in the assignment well. \n",
    "- It's your responsibility to make sure that the assignment is submitted by one of the group members before the deadline. \n",
    "- You can find the instructions on how to do group submission on Gradescope [here](https://help.gradescope.com/article/m5qz2xsnjy-student-add-group-members).\n",
    "- If you would like to use late tokens for the homework, all group members must have the necessary late tokens available. Please note that the late tokens will be counted for all members of the group.   \n",
    "\n",
    "\n",
    "Follow the [homework submission instructions](https://github.com/UBC-CS/cpsc330-2024W2/blob/master/docs/homework_instructions.md). \n",
    "\n",
    "1. Before submitting the assignment, run all cells in your notebook to make sure there are no errors by doing `Kernel -> Restart Kernel and Clear All Outputs` and then `Run -> Run All Cells`. \n",
    "2. Notebooks with cell execution numbers out of order or not starting from \"1\" will have marks deducted. Notebooks without the output displayed may not be graded at all (because we need to see the output in order to grade your work).\n",
    "3. Follow the [CPSC 330 homework instructions](https://ubc-cs.github.io/cpsc330-2024W2/docs/homework_instructions.html), which include information on how to do your assignment and how to submit your assignment.\n",
    "4. Upload your solution on Gradescope. Check out this [Gradescope Student Guide](https://lthub.ubc.ca/guides/gradescope-student-guide/) if you need help with Gradescope submission. \n",
    "5. Make sure that the plots and output are rendered properly in your submitted file. If the .ipynb file is too big and doesn't render on Gradescope, also upload a pdf or html in addition to the .ipynb so that the TAs can view your submission on Gradescope.\n",
    "\n",
    "\n",
    "_Note: The assignments will get gradually more open-ended as we progress through the course. In many cases, there won't be a single correct solution. Sometimes you will have to make your own choices and your own decisions (for example, on what parameter values to use when they are not explicitly provided in the instructions). Use your own judgment in such cases and justify your choices, if necessary._\n",
    "\n",
    "</div>"
   ]
  },
  {
   "cell_type": "markdown",
   "metadata": {
    "deletable": false,
    "editable": false
   },
   "source": [
    "<!-- BEGIN QUESTION -->\n",
    "\n",
    "## Imports"
   ]
  },
  {
   "cell_type": "markdown",
   "metadata": {
    "deletable": false,
    "editable": false
   },
   "source": [
    "<div class=\"alert alert-warning\">\n",
    "    \n",
    "Imports\n",
    "    \n",
    "</div>\n",
    "\n",
    "_Points:_ 0"
   ]
  },
  {
   "cell_type": "code",
   "execution_count": 52,
   "metadata": {
    "tags": []
   },
   "outputs": [],
   "source": [
    "from hashlib import sha1\n",
    "\n",
    "import matplotlib.pyplot as plt\n",
    "import numpy as np\n",
    "import pandas as pd\n",
    "import seaborn as sns\n",
    "\n",
    "import os\n",
    "import string\n",
    "import sys\n",
    "from collections import deque\n",
    "\n",
    "plt.rcParams[\"font.size\"] = 16\n",
    "\n",
    "sys.path.append(os.path.join(os.path.abspath(\"..\"), \"code\"))\n",
    "import seaborn as sns\n",
    "from sklearn import datasets\n",
    "from sklearn.compose import ColumnTransformer, make_column_transformer\n",
    "from sklearn.dummy import DummyClassifier, DummyRegressor\n",
    "from sklearn.ensemble import RandomForestClassifier, RandomForestRegressor\n",
    "from sklearn.impute import SimpleImputer\n",
    "from sklearn.linear_model import LogisticRegression, Ridge\n",
    "from sklearn.model_selection import (\n",
    "    GridSearchCV,\n",
    "    RandomizedSearchCV,\n",
    "    cross_val_score,\n",
    "    cross_validate,\n",
    "    train_test_split,\n",
    ")\n",
    "from sklearn.pipeline import Pipeline, make_pipeline\n",
    "from sklearn.preprocessing import OneHotEncoder, OrdinalEncoder, StandardScaler\n",
    "from sklearn.svm import SVC, SVR\n",
    "from sklearn.tree import DecisionTreeClassifier\n",
    "\n",
    "DATA_DIR = os.path.join(os.path.abspath(\"..\"), \"data/\")\n",
    "%matplotlib inline"
   ]
  },
  {
   "cell_type": "markdown",
   "metadata": {
    "deletable": false,
    "editable": false
   },
   "source": [
    "<!-- END QUESTION -->\n",
    "\n",
    "## Introduction <a name=\"in\"></a>\n",
    "\n",
    "In this homework you will be working on an open-ended mini-project, where you will put all the different things you have learned so far together to solve an interesting problem.\n",
    "\n",
    "A few notes and tips when you work on this mini-project: \n",
    "\n",
    "#### Tips\n",
    "1. This mini-project is open-ended, and while working on it, there might be some situations where you'll have to use your own judgment and make your own decisions (as you would be doing when you work as a data scientist). Make sure you explain your decisions whenever necessary. \n",
    "2. **Do not include everything you ever tried in your submission** -- it's fine just to have your final code. That said, your code should be reproducible and well-documented. For example, if you chose your hyperparameters based on some hyperparameter optimization experiment, you should leave in the code for that experiment so that someone else could re-run it and obtain the same hyperparameters, rather than mysteriously just setting the hyperparameters to some (carefully chosen) values in your code. \n",
    "3. If you realize that you are repeating a lot of code try to organize it in functions. Clear presentation of your code, experiments, and results is the key to be successful in this lab. You may use code from lecture notes or previous lab solutions with appropriate attributions. \n",
    "\n",
    "#### Assessment\n",
    "We plan to grade fairly and leniently. We don't have some secret target score that you need to achieve to get a good grade. **You'll be assessed on demonstration of mastery of course topics, clear presentation, and the quality of your analysis and results.** For example, if you just have a bunch of code and no text or figures, that's not good. If you do a bunch of sane things and get a lower accuracy than your friend, don't sweat it.\n",
    "\n",
    "\n",
    "#### A final note\n",
    "Finally, this style of this \"project\" question is different from other assignments. It'll be up to you to decide when you're \"done\" -- in fact, this is one of the hardest parts of real projects. But please don't spend WAY too much time on this... perhaps \"a few hours\" (15-20 hours???) is a good guideline for this project . Of course if you're having fun you're welcome to spend as much time as you want! But, if so, try not to do it out of perfectionism or getting the best possible grade. Do it because you're learning and enjoying it. Students from the past cohorts have found such kind of labs useful and fun and I hope you enjoy it as well. "
   ]
  },
  {
   "cell_type": "markdown",
   "metadata": {},
   "source": [
    "<br><br>"
   ]
  },
  {
   "cell_type": "markdown",
   "metadata": {
    "deletable": false,
    "editable": false
   },
   "source": [
    "<!-- BEGIN QUESTION -->\n",
    "\n",
    "## 1. Pick your problem and explain the prediction problem <a name=\"1\"></a>\n",
    "<hr>\n",
    "rubric={points:3}\n",
    "\n",
    "In this mini project, you have the option to choose on which dataset you will be working on. The tasks you will need to carry on will be similar, independently of your choice.\n",
    "\n",
    "### Option 1\n",
    "You can choose to work on a classification problem of predicting whether a credit card client will default or not. \n",
    "For this problem, you will use [Default of Credit Card Clients Dataset](https://www.kaggle.com/uciml/default-of-credit-card-clients-dataset). In this data set, there are 30,000 examples and 24 features, and the goal is to estimate whether a person will default (fail to pay) their credit card bills; this column is labeled \"default.payment.next.month\" in the data. The rest of the columns can be used as features. You may take some ideas and compare your results with [the associated research paper](https://www.sciencedirect.com/science/article/pii/S0957417407006719), which is available through [the UBC library](https://www.library.ubc.ca/). \n",
    "\n",
    "\n",
    "### Option 2\n",
    "You can choose to work on a regression problem using a [dataset](https://www.kaggle.com/dgomonov/new-york-city-airbnb-open-data) of New York City Airbnb listings from 2019. As usual, you'll need to start by downloading the dataset, then you will try to predict `reviews_per_month`, as a proxy for the popularity of the listing. Airbnb could use this sort of model to predict how popular future listings might be before they are posted, perhaps to help guide hosts create more appealing listings. In reality they might instead use something like vacancy rate or average rating as their target, but we do not have that available here.\n",
    "\n",
    "> Note there is an updated version of this dataset with more features available [here](http://insideairbnb.com/). The features were are using in `listings.csv.gz` for the New York city datasets. You will also see some other files like `reviews.csv.gz`. For your own interest you may want to explore the expanded dataset and try your analysis there. However, please submit your results on the dataset obtained from Kaggle.\n",
    "\n",
    "\n",
    "**Your tasks:**\n",
    "\n",
    "1. Spend some time understanding the options and pick the one you find more interesting (it may help spending some time looking at the documentation available on Kaggle for each dataset).\n",
    "2. After making your choice, focus on understanding the problem and what each feature means, again using the documentation on the dataset page on Kaggle. Write a few sentences on your initial thoughts on the problem and the dataset. \n",
    "3. Download the dataset and read it as a pandas dataframe. "
   ]
  },
  {
   "cell_type": "markdown",
   "metadata": {
    "deletable": false,
    "editable": false
   },
   "source": [
    "<div class=\"alert alert-warning\">\n",
    "    \n",
    "Solution_1\n",
    "    \n",
    "</div>\n",
    "\n",
    "_Points:_ 3"
   ]
  },
  {
   "cell_type": "markdown",
   "metadata": {},
   "source": [
    "This dataset tackles a real-world problem that banks and lenders deal with every day - predicting whether a credit card holder will miss their payment next month. It includes details about customers, like their age, education, and marital status, along with their past payment history and bill amounts. Since financial behavior is complex, some features, like past payments, will likely be strong indicators of whether someone defaults. A big challenge here could be class imbalance. Most people probably don’t default, so we’ll need to account for that when building models. Overall, this is an interesting and practical problem that combines finance and machine learning, making it a great opportunity to apply different techniques and see what works best. We will use classification to tackle this problem."
   ]
  },
  {
   "cell_type": "code",
   "execution_count": 53,
   "metadata": {
    "tags": []
   },
   "outputs": [
    {
     "data": {
      "text/html": [
       "<div>\n",
       "<style scoped>\n",
       "    .dataframe tbody tr th:only-of-type {\n",
       "        vertical-align: middle;\n",
       "    }\n",
       "\n",
       "    .dataframe tbody tr th {\n",
       "        vertical-align: top;\n",
       "    }\n",
       "\n",
       "    .dataframe thead th {\n",
       "        text-align: right;\n",
       "    }\n",
       "</style>\n",
       "<table border=\"1\" class=\"dataframe\">\n",
       "  <thead>\n",
       "    <tr style=\"text-align: right;\">\n",
       "      <th></th>\n",
       "      <th>ID</th>\n",
       "      <th>LIMIT_BAL</th>\n",
       "      <th>SEX</th>\n",
       "      <th>EDUCATION</th>\n",
       "      <th>MARRIAGE</th>\n",
       "      <th>AGE</th>\n",
       "      <th>PAY_0</th>\n",
       "      <th>PAY_2</th>\n",
       "      <th>PAY_3</th>\n",
       "      <th>PAY_4</th>\n",
       "      <th>...</th>\n",
       "      <th>BILL_AMT4</th>\n",
       "      <th>BILL_AMT5</th>\n",
       "      <th>BILL_AMT6</th>\n",
       "      <th>PAY_AMT1</th>\n",
       "      <th>PAY_AMT2</th>\n",
       "      <th>PAY_AMT3</th>\n",
       "      <th>PAY_AMT4</th>\n",
       "      <th>PAY_AMT5</th>\n",
       "      <th>PAY_AMT6</th>\n",
       "      <th>default.payment.next.month</th>\n",
       "    </tr>\n",
       "  </thead>\n",
       "  <tbody>\n",
       "    <tr>\n",
       "      <th>0</th>\n",
       "      <td>1</td>\n",
       "      <td>20000.0</td>\n",
       "      <td>2</td>\n",
       "      <td>2</td>\n",
       "      <td>1</td>\n",
       "      <td>24</td>\n",
       "      <td>2</td>\n",
       "      <td>2</td>\n",
       "      <td>-1</td>\n",
       "      <td>-1</td>\n",
       "      <td>...</td>\n",
       "      <td>0.0</td>\n",
       "      <td>0.0</td>\n",
       "      <td>0.0</td>\n",
       "      <td>0.0</td>\n",
       "      <td>689.0</td>\n",
       "      <td>0.0</td>\n",
       "      <td>0.0</td>\n",
       "      <td>0.0</td>\n",
       "      <td>0.0</td>\n",
       "      <td>1</td>\n",
       "    </tr>\n",
       "    <tr>\n",
       "      <th>1</th>\n",
       "      <td>2</td>\n",
       "      <td>120000.0</td>\n",
       "      <td>2</td>\n",
       "      <td>2</td>\n",
       "      <td>2</td>\n",
       "      <td>26</td>\n",
       "      <td>-1</td>\n",
       "      <td>2</td>\n",
       "      <td>0</td>\n",
       "      <td>0</td>\n",
       "      <td>...</td>\n",
       "      <td>3272.0</td>\n",
       "      <td>3455.0</td>\n",
       "      <td>3261.0</td>\n",
       "      <td>0.0</td>\n",
       "      <td>1000.0</td>\n",
       "      <td>1000.0</td>\n",
       "      <td>1000.0</td>\n",
       "      <td>0.0</td>\n",
       "      <td>2000.0</td>\n",
       "      <td>1</td>\n",
       "    </tr>\n",
       "    <tr>\n",
       "      <th>2</th>\n",
       "      <td>3</td>\n",
       "      <td>90000.0</td>\n",
       "      <td>2</td>\n",
       "      <td>2</td>\n",
       "      <td>2</td>\n",
       "      <td>34</td>\n",
       "      <td>0</td>\n",
       "      <td>0</td>\n",
       "      <td>0</td>\n",
       "      <td>0</td>\n",
       "      <td>...</td>\n",
       "      <td>14331.0</td>\n",
       "      <td>14948.0</td>\n",
       "      <td>15549.0</td>\n",
       "      <td>1518.0</td>\n",
       "      <td>1500.0</td>\n",
       "      <td>1000.0</td>\n",
       "      <td>1000.0</td>\n",
       "      <td>1000.0</td>\n",
       "      <td>5000.0</td>\n",
       "      <td>0</td>\n",
       "    </tr>\n",
       "    <tr>\n",
       "      <th>3</th>\n",
       "      <td>4</td>\n",
       "      <td>50000.0</td>\n",
       "      <td>2</td>\n",
       "      <td>2</td>\n",
       "      <td>1</td>\n",
       "      <td>37</td>\n",
       "      <td>0</td>\n",
       "      <td>0</td>\n",
       "      <td>0</td>\n",
       "      <td>0</td>\n",
       "      <td>...</td>\n",
       "      <td>28314.0</td>\n",
       "      <td>28959.0</td>\n",
       "      <td>29547.0</td>\n",
       "      <td>2000.0</td>\n",
       "      <td>2019.0</td>\n",
       "      <td>1200.0</td>\n",
       "      <td>1100.0</td>\n",
       "      <td>1069.0</td>\n",
       "      <td>1000.0</td>\n",
       "      <td>0</td>\n",
       "    </tr>\n",
       "    <tr>\n",
       "      <th>4</th>\n",
       "      <td>5</td>\n",
       "      <td>50000.0</td>\n",
       "      <td>1</td>\n",
       "      <td>2</td>\n",
       "      <td>1</td>\n",
       "      <td>57</td>\n",
       "      <td>-1</td>\n",
       "      <td>0</td>\n",
       "      <td>-1</td>\n",
       "      <td>0</td>\n",
       "      <td>...</td>\n",
       "      <td>20940.0</td>\n",
       "      <td>19146.0</td>\n",
       "      <td>19131.0</td>\n",
       "      <td>2000.0</td>\n",
       "      <td>36681.0</td>\n",
       "      <td>10000.0</td>\n",
       "      <td>9000.0</td>\n",
       "      <td>689.0</td>\n",
       "      <td>679.0</td>\n",
       "      <td>0</td>\n",
       "    </tr>\n",
       "    <tr>\n",
       "      <th>...</th>\n",
       "      <td>...</td>\n",
       "      <td>...</td>\n",
       "      <td>...</td>\n",
       "      <td>...</td>\n",
       "      <td>...</td>\n",
       "      <td>...</td>\n",
       "      <td>...</td>\n",
       "      <td>...</td>\n",
       "      <td>...</td>\n",
       "      <td>...</td>\n",
       "      <td>...</td>\n",
       "      <td>...</td>\n",
       "      <td>...</td>\n",
       "      <td>...</td>\n",
       "      <td>...</td>\n",
       "      <td>...</td>\n",
       "      <td>...</td>\n",
       "      <td>...</td>\n",
       "      <td>...</td>\n",
       "      <td>...</td>\n",
       "      <td>...</td>\n",
       "    </tr>\n",
       "    <tr>\n",
       "      <th>29995</th>\n",
       "      <td>29996</td>\n",
       "      <td>220000.0</td>\n",
       "      <td>1</td>\n",
       "      <td>3</td>\n",
       "      <td>1</td>\n",
       "      <td>39</td>\n",
       "      <td>0</td>\n",
       "      <td>0</td>\n",
       "      <td>0</td>\n",
       "      <td>0</td>\n",
       "      <td>...</td>\n",
       "      <td>88004.0</td>\n",
       "      <td>31237.0</td>\n",
       "      <td>15980.0</td>\n",
       "      <td>8500.0</td>\n",
       "      <td>20000.0</td>\n",
       "      <td>5003.0</td>\n",
       "      <td>3047.0</td>\n",
       "      <td>5000.0</td>\n",
       "      <td>1000.0</td>\n",
       "      <td>0</td>\n",
       "    </tr>\n",
       "    <tr>\n",
       "      <th>29996</th>\n",
       "      <td>29997</td>\n",
       "      <td>150000.0</td>\n",
       "      <td>1</td>\n",
       "      <td>3</td>\n",
       "      <td>2</td>\n",
       "      <td>43</td>\n",
       "      <td>-1</td>\n",
       "      <td>-1</td>\n",
       "      <td>-1</td>\n",
       "      <td>-1</td>\n",
       "      <td>...</td>\n",
       "      <td>8979.0</td>\n",
       "      <td>5190.0</td>\n",
       "      <td>0.0</td>\n",
       "      <td>1837.0</td>\n",
       "      <td>3526.0</td>\n",
       "      <td>8998.0</td>\n",
       "      <td>129.0</td>\n",
       "      <td>0.0</td>\n",
       "      <td>0.0</td>\n",
       "      <td>0</td>\n",
       "    </tr>\n",
       "    <tr>\n",
       "      <th>29997</th>\n",
       "      <td>29998</td>\n",
       "      <td>30000.0</td>\n",
       "      <td>1</td>\n",
       "      <td>2</td>\n",
       "      <td>2</td>\n",
       "      <td>37</td>\n",
       "      <td>4</td>\n",
       "      <td>3</td>\n",
       "      <td>2</td>\n",
       "      <td>-1</td>\n",
       "      <td>...</td>\n",
       "      <td>20878.0</td>\n",
       "      <td>20582.0</td>\n",
       "      <td>19357.0</td>\n",
       "      <td>0.0</td>\n",
       "      <td>0.0</td>\n",
       "      <td>22000.0</td>\n",
       "      <td>4200.0</td>\n",
       "      <td>2000.0</td>\n",
       "      <td>3100.0</td>\n",
       "      <td>1</td>\n",
       "    </tr>\n",
       "    <tr>\n",
       "      <th>29998</th>\n",
       "      <td>29999</td>\n",
       "      <td>80000.0</td>\n",
       "      <td>1</td>\n",
       "      <td>3</td>\n",
       "      <td>1</td>\n",
       "      <td>41</td>\n",
       "      <td>1</td>\n",
       "      <td>-1</td>\n",
       "      <td>0</td>\n",
       "      <td>0</td>\n",
       "      <td>...</td>\n",
       "      <td>52774.0</td>\n",
       "      <td>11855.0</td>\n",
       "      <td>48944.0</td>\n",
       "      <td>85900.0</td>\n",
       "      <td>3409.0</td>\n",
       "      <td>1178.0</td>\n",
       "      <td>1926.0</td>\n",
       "      <td>52964.0</td>\n",
       "      <td>1804.0</td>\n",
       "      <td>1</td>\n",
       "    </tr>\n",
       "    <tr>\n",
       "      <th>29999</th>\n",
       "      <td>30000</td>\n",
       "      <td>50000.0</td>\n",
       "      <td>1</td>\n",
       "      <td>2</td>\n",
       "      <td>1</td>\n",
       "      <td>46</td>\n",
       "      <td>0</td>\n",
       "      <td>0</td>\n",
       "      <td>0</td>\n",
       "      <td>0</td>\n",
       "      <td>...</td>\n",
       "      <td>36535.0</td>\n",
       "      <td>32428.0</td>\n",
       "      <td>15313.0</td>\n",
       "      <td>2078.0</td>\n",
       "      <td>1800.0</td>\n",
       "      <td>1430.0</td>\n",
       "      <td>1000.0</td>\n",
       "      <td>1000.0</td>\n",
       "      <td>1000.0</td>\n",
       "      <td>1</td>\n",
       "    </tr>\n",
       "  </tbody>\n",
       "</table>\n",
       "<p>30000 rows × 25 columns</p>\n",
       "</div>"
      ],
      "text/plain": [
       "          ID  LIMIT_BAL  SEX  EDUCATION  MARRIAGE  AGE  PAY_0  PAY_2  PAY_3  \\\n",
       "0          1    20000.0    2          2         1   24      2      2     -1   \n",
       "1          2   120000.0    2          2         2   26     -1      2      0   \n",
       "2          3    90000.0    2          2         2   34      0      0      0   \n",
       "3          4    50000.0    2          2         1   37      0      0      0   \n",
       "4          5    50000.0    1          2         1   57     -1      0     -1   \n",
       "...      ...        ...  ...        ...       ...  ...    ...    ...    ...   \n",
       "29995  29996   220000.0    1          3         1   39      0      0      0   \n",
       "29996  29997   150000.0    1          3         2   43     -1     -1     -1   \n",
       "29997  29998    30000.0    1          2         2   37      4      3      2   \n",
       "29998  29999    80000.0    1          3         1   41      1     -1      0   \n",
       "29999  30000    50000.0    1          2         1   46      0      0      0   \n",
       "\n",
       "       PAY_4  ...  BILL_AMT4  BILL_AMT5  BILL_AMT6  PAY_AMT1  PAY_AMT2  \\\n",
       "0         -1  ...        0.0        0.0        0.0       0.0     689.0   \n",
       "1          0  ...     3272.0     3455.0     3261.0       0.0    1000.0   \n",
       "2          0  ...    14331.0    14948.0    15549.0    1518.0    1500.0   \n",
       "3          0  ...    28314.0    28959.0    29547.0    2000.0    2019.0   \n",
       "4          0  ...    20940.0    19146.0    19131.0    2000.0   36681.0   \n",
       "...      ...  ...        ...        ...        ...       ...       ...   \n",
       "29995      0  ...    88004.0    31237.0    15980.0    8500.0   20000.0   \n",
       "29996     -1  ...     8979.0     5190.0        0.0    1837.0    3526.0   \n",
       "29997     -1  ...    20878.0    20582.0    19357.0       0.0       0.0   \n",
       "29998      0  ...    52774.0    11855.0    48944.0   85900.0    3409.0   \n",
       "29999      0  ...    36535.0    32428.0    15313.0    2078.0    1800.0   \n",
       "\n",
       "       PAY_AMT3  PAY_AMT4  PAY_AMT5  PAY_AMT6  default.payment.next.month  \n",
       "0           0.0       0.0       0.0       0.0                           1  \n",
       "1        1000.0    1000.0       0.0    2000.0                           1  \n",
       "2        1000.0    1000.0    1000.0    5000.0                           0  \n",
       "3        1200.0    1100.0    1069.0    1000.0                           0  \n",
       "4       10000.0    9000.0     689.0     679.0                           0  \n",
       "...         ...       ...       ...       ...                         ...  \n",
       "29995    5003.0    3047.0    5000.0    1000.0                           0  \n",
       "29996    8998.0     129.0       0.0       0.0                           0  \n",
       "29997   22000.0    4200.0    2000.0    3100.0                           1  \n",
       "29998    1178.0    1926.0   52964.0    1804.0                           1  \n",
       "29999    1430.0    1000.0    1000.0    1000.0                           1  \n",
       "\n",
       "[30000 rows x 25 columns]"
      ]
     },
     "execution_count": 53,
     "metadata": {},
     "output_type": "execute_result"
    }
   ],
   "source": [
    "credit_card_df = pd.read_csv(\"data/UCI_Credit_card.csv\")\n",
    "credit_card_df"
   ]
  },
  {
   "cell_type": "markdown",
   "metadata": {
    "deletable": false,
    "editable": false
   },
   "source": [
    "<!-- END QUESTION -->\n",
    "\n",
    "<br><br>"
   ]
  },
  {
   "cell_type": "markdown",
   "metadata": {
    "deletable": false,
    "editable": false
   },
   "source": [
    "<!-- BEGIN QUESTION -->\n",
    "\n",
    "## 2. Data splitting <a name=\"2\"></a>\n",
    "<hr>\n",
    "rubric={points:2}\n",
    "\n",
    "**Your tasks:**\n",
    "\n",
    "1. Split the data into train (70%) and test (30%) portions with `random_state=123`.\n",
    "\n",
    "> If your computer cannot handle training on 70% training data, make the test split bigger.  "
   ]
  },
  {
   "cell_type": "markdown",
   "metadata": {
    "deletable": false,
    "editable": false
   },
   "source": [
    "<div class=\"alert alert-warning\">\n",
    "    \n",
    "Solution_2\n",
    "    \n",
    "</div>\n",
    "\n",
    "_Points:_ 2"
   ]
  },
  {
   "cell_type": "code",
<<<<<<< HEAD
   "execution_count": 4,
   "metadata": {},
   "outputs": [
    {
     "data": {
      "text/plain": [
       "((21000, 25), (9000, 25))"
      ]
     },
     "execution_count": 4,
     "metadata": {},
     "output_type": "execute_result"
=======
   "execution_count": 54,
   "metadata": {},
   "outputs": [
    {
     "name": "stdout",
     "output_type": "stream",
     "text": [
      "(21000, 25) (9000, 25)\n"
     ]
>>>>>>> 638fd2c8277879254c0e2468f3e46f31f255a018
    }
   ],
   "source": [
    "# # The target variable, as mentioned in the instructions, is 'default.payment.next.month'\n",
    "X = credit_card_df.drop(columns=[\"default.payment.next.month\"])\n",
    "y = credit_card_df[\"default.payment.next.month\"]\n",
    "\n",
    "# Split into training (70%) and testing (30%) sets\n",
    "X_train, X_test, y_train, y_test = train_test_split(X, y, test_size=0.3, random_state=123)\n",
    "\n",
    "# We can also display the shapes of the dataframes for the training and testing sets\n",
    "train_df = X_train.join(y_train)\n",
    "test_df = X_test.join(y_test)\n",
    "print(train_df.shape, test_df.shape)"
   ]
  },
  {
   "cell_type": "code",
<<<<<<< HEAD
   "execution_count": 5,
=======
   "execution_count": 55,
>>>>>>> 638fd2c8277879254c0e2468f3e46f31f255a018
   "metadata": {},
   "outputs": [
    {
     "data": {
      "text/html": [
       "<div>\n",
       "<style scoped>\n",
       "    .dataframe tbody tr th:only-of-type {\n",
       "        vertical-align: middle;\n",
       "    }\n",
       "\n",
       "    .dataframe tbody tr th {\n",
       "        vertical-align: top;\n",
       "    }\n",
       "\n",
       "    .dataframe thead th {\n",
       "        text-align: right;\n",
       "    }\n",
       "</style>\n",
       "<table border=\"1\" class=\"dataframe\">\n",
       "  <thead>\n",
       "    <tr style=\"text-align: right;\">\n",
       "      <th></th>\n",
       "      <th>ID</th>\n",
       "      <th>LIMIT_BAL</th>\n",
       "      <th>SEX</th>\n",
       "      <th>EDUCATION</th>\n",
       "      <th>MARRIAGE</th>\n",
       "      <th>AGE</th>\n",
       "      <th>PAY_0</th>\n",
       "      <th>PAY_2</th>\n",
       "      <th>PAY_3</th>\n",
       "      <th>PAY_4</th>\n",
       "      <th>...</th>\n",
       "      <th>BILL_AMT4</th>\n",
       "      <th>BILL_AMT5</th>\n",
       "      <th>BILL_AMT6</th>\n",
       "      <th>PAY_AMT1</th>\n",
       "      <th>PAY_AMT2</th>\n",
       "      <th>PAY_AMT3</th>\n",
       "      <th>PAY_AMT4</th>\n",
       "      <th>PAY_AMT5</th>\n",
       "      <th>PAY_AMT6</th>\n",
       "      <th>default.payment.next.month</th>\n",
       "    </tr>\n",
       "  </thead>\n",
       "  <tbody>\n",
       "    <tr>\n",
       "      <th>16395</th>\n",
       "      <td>16396</td>\n",
       "      <td>320000.0</td>\n",
       "      <td>2</td>\n",
       "      <td>1</td>\n",
       "      <td>2</td>\n",
       "      <td>36</td>\n",
       "      <td>0</td>\n",
       "      <td>0</td>\n",
       "      <td>0</td>\n",
       "      <td>0</td>\n",
       "      <td>...</td>\n",
       "      <td>19370.0</td>\n",
       "      <td>10155.0</td>\n",
       "      <td>3788.0</td>\n",
       "      <td>5000.0</td>\n",
       "      <td>5018.0</td>\n",
       "      <td>1000.0</td>\n",
       "      <td>3000.0</td>\n",
       "      <td>0.0</td>\n",
       "      <td>7013.0</td>\n",
       "      <td>0</td>\n",
       "    </tr>\n",
       "    <tr>\n",
       "      <th>21448</th>\n",
       "      <td>21449</td>\n",
       "      <td>440000.0</td>\n",
       "      <td>2</td>\n",
       "      <td>1</td>\n",
       "      <td>2</td>\n",
       "      <td>30</td>\n",
       "      <td>-1</td>\n",
       "      <td>-1</td>\n",
       "      <td>-1</td>\n",
       "      <td>0</td>\n",
       "      <td>...</td>\n",
       "      <td>171244.0</td>\n",
       "      <td>150897.0</td>\n",
       "      <td>117870.0</td>\n",
       "      <td>612.0</td>\n",
       "      <td>87426.0</td>\n",
       "      <td>130007.0</td>\n",
       "      <td>3018.0</td>\n",
       "      <td>15000.0</td>\n",
       "      <td>51663.0</td>\n",
       "      <td>0</td>\n",
       "    </tr>\n",
       "    <tr>\n",
       "      <th>20034</th>\n",
       "      <td>20035</td>\n",
       "      <td>160000.0</td>\n",
       "      <td>2</td>\n",
       "      <td>3</td>\n",
       "      <td>1</td>\n",
       "      <td>44</td>\n",
       "      <td>-2</td>\n",
       "      <td>-2</td>\n",
       "      <td>-2</td>\n",
       "      <td>-2</td>\n",
       "      <td>...</td>\n",
       "      <td>-18.0</td>\n",
       "      <td>-18.0</td>\n",
       "      <td>-18.0</td>\n",
       "      <td>0.0</td>\n",
       "      <td>0.0</td>\n",
       "      <td>0.0</td>\n",
       "      <td>0.0</td>\n",
       "      <td>0.0</td>\n",
       "      <td>0.0</td>\n",
       "      <td>0</td>\n",
       "    </tr>\n",
       "    <tr>\n",
       "      <th>25755</th>\n",
       "      <td>25756</td>\n",
       "      <td>120000.0</td>\n",
       "      <td>2</td>\n",
       "      <td>2</td>\n",
       "      <td>1</td>\n",
       "      <td>30</td>\n",
       "      <td>0</td>\n",
       "      <td>0</td>\n",
       "      <td>0</td>\n",
       "      <td>0</td>\n",
       "      <td>...</td>\n",
       "      <td>103058.0</td>\n",
       "      <td>71095.0</td>\n",
       "      <td>47379.0</td>\n",
       "      <td>3706.0</td>\n",
       "      <td>5502.0</td>\n",
       "      <td>4204.0</td>\n",
       "      <td>3017.0</td>\n",
       "      <td>2005.0</td>\n",
       "      <td>1702.0</td>\n",
       "      <td>0</td>\n",
       "    </tr>\n",
       "    <tr>\n",
       "      <th>1438</th>\n",
       "      <td>1439</td>\n",
       "      <td>50000.0</td>\n",
       "      <td>1</td>\n",
       "      <td>2</td>\n",
       "      <td>2</td>\n",
       "      <td>54</td>\n",
       "      <td>1</td>\n",
       "      <td>2</td>\n",
       "      <td>0</td>\n",
       "      <td>0</td>\n",
       "      <td>...</td>\n",
       "      <td>27585.0</td>\n",
       "      <td>27910.0</td>\n",
       "      <td>27380.0</td>\n",
       "      <td>0.0</td>\n",
       "      <td>1400.0</td>\n",
       "      <td>1200.0</td>\n",
       "      <td>1500.0</td>\n",
       "      <td>1000.0</td>\n",
       "      <td>1500.0</td>\n",
       "      <td>0</td>\n",
       "    </tr>\n",
       "    <tr>\n",
       "      <th>...</th>\n",
       "      <td>...</td>\n",
       "      <td>...</td>\n",
       "      <td>...</td>\n",
       "      <td>...</td>\n",
       "      <td>...</td>\n",
       "      <td>...</td>\n",
       "      <td>...</td>\n",
       "      <td>...</td>\n",
       "      <td>...</td>\n",
       "      <td>...</td>\n",
       "      <td>...</td>\n",
       "      <td>...</td>\n",
       "      <td>...</td>\n",
       "      <td>...</td>\n",
       "      <td>...</td>\n",
       "      <td>...</td>\n",
       "      <td>...</td>\n",
       "      <td>...</td>\n",
       "      <td>...</td>\n",
       "      <td>...</td>\n",
       "      <td>...</td>\n",
       "    </tr>\n",
       "    <tr>\n",
       "      <th>28636</th>\n",
       "      <td>28637</td>\n",
       "      <td>380000.0</td>\n",
       "      <td>2</td>\n",
       "      <td>2</td>\n",
       "      <td>1</td>\n",
       "      <td>37</td>\n",
       "      <td>0</td>\n",
       "      <td>0</td>\n",
       "      <td>0</td>\n",
       "      <td>0</td>\n",
       "      <td>...</td>\n",
       "      <td>14291.0</td>\n",
       "      <td>15949.0</td>\n",
       "      <td>15556.0</td>\n",
       "      <td>1204.0</td>\n",
       "      <td>1300.0</td>\n",
       "      <td>1242.0</td>\n",
       "      <td>1900.0</td>\n",
       "      <td>0.0</td>\n",
       "      <td>3000.0</td>\n",
       "      <td>0</td>\n",
       "    </tr>\n",
       "    <tr>\n",
       "      <th>17730</th>\n",
       "      <td>17731</td>\n",
       "      <td>360000.0</td>\n",
       "      <td>2</td>\n",
       "      <td>1</td>\n",
       "      <td>1</td>\n",
       "      <td>54</td>\n",
       "      <td>1</td>\n",
       "      <td>-2</td>\n",
       "      <td>-2</td>\n",
       "      <td>-1</td>\n",
       "      <td>...</td>\n",
       "      <td>2580.0</td>\n",
       "      <td>2580.0</td>\n",
       "      <td>6941.0</td>\n",
       "      <td>0.0</td>\n",
       "      <td>0.0</td>\n",
       "      <td>2580.0</td>\n",
       "      <td>0.0</td>\n",
       "      <td>6941.0</td>\n",
       "      <td>0.0</td>\n",
       "      <td>0</td>\n",
       "    </tr>\n",
       "    <tr>\n",
       "      <th>28030</th>\n",
       "      <td>28031</td>\n",
       "      <td>50000.0</td>\n",
       "      <td>2</td>\n",
       "      <td>3</td>\n",
       "      <td>1</td>\n",
       "      <td>29</td>\n",
       "      <td>0</td>\n",
       "      <td>0</td>\n",
       "      <td>0</td>\n",
       "      <td>0</td>\n",
       "      <td>...</td>\n",
       "      <td>39420.0</td>\n",
       "      <td>8824.0</td>\n",
       "      <td>9009.0</td>\n",
       "      <td>2002.0</td>\n",
       "      <td>2000.0</td>\n",
       "      <td>1530.0</td>\n",
       "      <td>1000.0</td>\n",
       "      <td>327.0</td>\n",
       "      <td>329.0</td>\n",
       "      <td>1</td>\n",
       "    </tr>\n",
       "    <tr>\n",
       "      <th>15725</th>\n",
       "      <td>15726</td>\n",
       "      <td>30000.0</td>\n",
       "      <td>2</td>\n",
       "      <td>2</td>\n",
       "      <td>2</td>\n",
       "      <td>21</td>\n",
       "      <td>0</td>\n",
       "      <td>0</td>\n",
       "      <td>0</td>\n",
       "      <td>0</td>\n",
       "      <td>...</td>\n",
       "      <td>30841.0</td>\n",
       "      <td>29434.0</td>\n",
       "      <td>16565.0</td>\n",
       "      <td>2000.0</td>\n",
       "      <td>2000.0</td>\n",
       "      <td>2000.0</td>\n",
       "      <td>1765.0</td>\n",
       "      <td>331.0</td>\n",
       "      <td>0.0</td>\n",
       "      <td>0</td>\n",
       "    </tr>\n",
       "    <tr>\n",
       "      <th>19966</th>\n",
       "      <td>19967</td>\n",
       "      <td>370000.0</td>\n",
       "      <td>2</td>\n",
       "      <td>1</td>\n",
       "      <td>1</td>\n",
       "      <td>36</td>\n",
       "      <td>-2</td>\n",
       "      <td>-2</td>\n",
       "      <td>-2</td>\n",
       "      <td>-2</td>\n",
       "      <td>...</td>\n",
       "      <td>4246.0</td>\n",
       "      <td>3737.0</td>\n",
       "      <td>2290.0</td>\n",
       "      <td>25794.0</td>\n",
       "      <td>3007.0</td>\n",
       "      <td>4305.0</td>\n",
       "      <td>3737.0</td>\n",
       "      <td>2290.0</td>\n",
       "      <td>22259.0</td>\n",
       "      <td>0</td>\n",
       "    </tr>\n",
       "  </tbody>\n",
       "</table>\n",
       "<p>21000 rows × 25 columns</p>\n",
       "</div>"
      ],
      "text/plain": [
       "          ID  LIMIT_BAL  SEX  EDUCATION  MARRIAGE  AGE  PAY_0  PAY_2  PAY_3  \\\n",
       "16395  16396   320000.0    2          1         2   36      0      0      0   \n",
       "21448  21449   440000.0    2          1         2   30     -1     -1     -1   \n",
       "20034  20035   160000.0    2          3         1   44     -2     -2     -2   \n",
       "25755  25756   120000.0    2          2         1   30      0      0      0   \n",
       "1438    1439    50000.0    1          2         2   54      1      2      0   \n",
       "...      ...        ...  ...        ...       ...  ...    ...    ...    ...   \n",
       "28636  28637   380000.0    2          2         1   37      0      0      0   \n",
       "17730  17731   360000.0    2          1         1   54      1     -2     -2   \n",
       "28030  28031    50000.0    2          3         1   29      0      0      0   \n",
       "15725  15726    30000.0    2          2         2   21      0      0      0   \n",
       "19966  19967   370000.0    2          1         1   36     -2     -2     -2   \n",
       "\n",
       "       PAY_4  ...  BILL_AMT4  BILL_AMT5  BILL_AMT6  PAY_AMT1  PAY_AMT2  \\\n",
       "16395      0  ...    19370.0    10155.0     3788.0    5000.0    5018.0   \n",
       "21448      0  ...   171244.0   150897.0   117870.0     612.0   87426.0   \n",
       "20034     -2  ...      -18.0      -18.0      -18.0       0.0       0.0   \n",
       "25755      0  ...   103058.0    71095.0    47379.0    3706.0    5502.0   \n",
       "1438       0  ...    27585.0    27910.0    27380.0       0.0    1400.0   \n",
       "...      ...  ...        ...        ...        ...       ...       ...   \n",
       "28636      0  ...    14291.0    15949.0    15556.0    1204.0    1300.0   \n",
       "17730     -1  ...     2580.0     2580.0     6941.0       0.0       0.0   \n",
       "28030      0  ...    39420.0     8824.0     9009.0    2002.0    2000.0   \n",
       "15725      0  ...    30841.0    29434.0    16565.0    2000.0    2000.0   \n",
       "19966     -2  ...     4246.0     3737.0     2290.0   25794.0    3007.0   \n",
       "\n",
       "       PAY_AMT3  PAY_AMT4  PAY_AMT5  PAY_AMT6  default.payment.next.month  \n",
       "16395    1000.0    3000.0       0.0    7013.0                           0  \n",
       "21448  130007.0    3018.0   15000.0   51663.0                           0  \n",
       "20034       0.0       0.0       0.0       0.0                           0  \n",
       "25755    4204.0    3017.0    2005.0    1702.0                           0  \n",
       "1438     1200.0    1500.0    1000.0    1500.0                           0  \n",
       "...         ...       ...       ...       ...                         ...  \n",
       "28636    1242.0    1900.0       0.0    3000.0                           0  \n",
       "17730    2580.0       0.0    6941.0       0.0                           0  \n",
       "28030    1530.0    1000.0     327.0     329.0                           1  \n",
       "15725    2000.0    1765.0     331.0       0.0                           0  \n",
       "19966    4305.0    3737.0    2290.0   22259.0                           0  \n",
       "\n",
       "[21000 rows x 25 columns]"
      ]
     },
<<<<<<< HEAD
     "execution_count": 5,
=======
     "execution_count": 55,
>>>>>>> 638fd2c8277879254c0e2468f3e46f31f255a018
     "metadata": {},
     "output_type": "execute_result"
    }
   ],
   "source": [
    "train_df"
   ]
  },
  {
   "cell_type": "code",
<<<<<<< HEAD
   "execution_count": 6,
=======
   "execution_count": 56,
>>>>>>> 638fd2c8277879254c0e2468f3e46f31f255a018
   "metadata": {},
   "outputs": [
    {
     "data": {
      "text/html": [
       "<div>\n",
       "<style scoped>\n",
       "    .dataframe tbody tr th:only-of-type {\n",
       "        vertical-align: middle;\n",
       "    }\n",
       "\n",
       "    .dataframe tbody tr th {\n",
       "        vertical-align: top;\n",
       "    }\n",
       "\n",
       "    .dataframe thead th {\n",
       "        text-align: right;\n",
       "    }\n",
       "</style>\n",
       "<table border=\"1\" class=\"dataframe\">\n",
       "  <thead>\n",
       "    <tr style=\"text-align: right;\">\n",
       "      <th></th>\n",
       "      <th>ID</th>\n",
       "      <th>LIMIT_BAL</th>\n",
       "      <th>SEX</th>\n",
       "      <th>EDUCATION</th>\n",
       "      <th>MARRIAGE</th>\n",
       "      <th>AGE</th>\n",
       "      <th>PAY_0</th>\n",
       "      <th>PAY_2</th>\n",
       "      <th>PAY_3</th>\n",
       "      <th>PAY_4</th>\n",
       "      <th>...</th>\n",
       "      <th>BILL_AMT4</th>\n",
       "      <th>BILL_AMT5</th>\n",
       "      <th>BILL_AMT6</th>\n",
       "      <th>PAY_AMT1</th>\n",
       "      <th>PAY_AMT2</th>\n",
       "      <th>PAY_AMT3</th>\n",
       "      <th>PAY_AMT4</th>\n",
       "      <th>PAY_AMT5</th>\n",
       "      <th>PAY_AMT6</th>\n",
       "      <th>default.payment.next.month</th>\n",
       "    </tr>\n",
       "  </thead>\n",
       "  <tbody>\n",
       "    <tr>\n",
       "      <th>25665</th>\n",
       "      <td>25666</td>\n",
       "      <td>40000.0</td>\n",
       "      <td>2</td>\n",
       "      <td>2</td>\n",
       "      <td>2</td>\n",
       "      <td>26</td>\n",
       "      <td>-1</td>\n",
       "      <td>0</td>\n",
       "      <td>0</td>\n",
       "      <td>0</td>\n",
       "      <td>...</td>\n",
       "      <td>0.0</td>\n",
       "      <td>44024.0</td>\n",
       "      <td>18697.0</td>\n",
       "      <td>1300.0</td>\n",
       "      <td>1000.0</td>\n",
       "      <td>0.0</td>\n",
       "      <td>22373.0</td>\n",
       "      <td>680.0</td>\n",
       "      <td>10000.0</td>\n",
       "      <td>0</td>\n",
       "    </tr>\n",
       "    <tr>\n",
       "      <th>16464</th>\n",
       "      <td>16465</td>\n",
       "      <td>80000.0</td>\n",
       "      <td>2</td>\n",
       "      <td>3</td>\n",
       "      <td>1</td>\n",
       "      <td>59</td>\n",
       "      <td>0</td>\n",
       "      <td>0</td>\n",
       "      <td>0</td>\n",
       "      <td>0</td>\n",
       "      <td>...</td>\n",
       "      <td>50875.0</td>\n",
       "      <td>50372.0</td>\n",
       "      <td>49470.0</td>\n",
       "      <td>3212.0</td>\n",
       "      <td>2106.0</td>\n",
       "      <td>2000.0</td>\n",
       "      <td>1603.0</td>\n",
       "      <td>1903.0</td>\n",
       "      <td>2006.0</td>\n",
       "      <td>0</td>\n",
       "    </tr>\n",
       "    <tr>\n",
       "      <th>22386</th>\n",
       "      <td>22387</td>\n",
       "      <td>170000.0</td>\n",
       "      <td>2</td>\n",
       "      <td>1</td>\n",
       "      <td>2</td>\n",
       "      <td>30</td>\n",
       "      <td>2</td>\n",
       "      <td>2</td>\n",
       "      <td>2</td>\n",
       "      <td>2</td>\n",
       "      <td>...</td>\n",
       "      <td>157577.0</td>\n",
       "      <td>168094.0</td>\n",
       "      <td>170922.0</td>\n",
       "      <td>6800.0</td>\n",
       "      <td>6500.0</td>\n",
       "      <td>0.0</td>\n",
       "      <td>13000.0</td>\n",
       "      <td>5500.0</td>\n",
       "      <td>1000.0</td>\n",
       "      <td>1</td>\n",
       "    </tr>\n",
       "    <tr>\n",
       "      <th>10149</th>\n",
       "      <td>10150</td>\n",
       "      <td>200000.0</td>\n",
       "      <td>2</td>\n",
       "      <td>2</td>\n",
       "      <td>1</td>\n",
       "      <td>41</td>\n",
       "      <td>-2</td>\n",
       "      <td>-2</td>\n",
       "      <td>-2</td>\n",
       "      <td>-2</td>\n",
       "      <td>...</td>\n",
       "      <td>0.0</td>\n",
       "      <td>0.0</td>\n",
       "      <td>0.0</td>\n",
       "      <td>742.0</td>\n",
       "      <td>0.0</td>\n",
       "      <td>0.0</td>\n",
       "      <td>0.0</td>\n",
       "      <td>0.0</td>\n",
       "      <td>0.0</td>\n",
       "      <td>1</td>\n",
       "    </tr>\n",
       "    <tr>\n",
       "      <th>8729</th>\n",
       "      <td>8730</td>\n",
       "      <td>50000.0</td>\n",
       "      <td>1</td>\n",
       "      <td>2</td>\n",
       "      <td>1</td>\n",
       "      <td>43</td>\n",
       "      <td>0</td>\n",
       "      <td>0</td>\n",
       "      <td>0</td>\n",
       "      <td>0</td>\n",
       "      <td>...</td>\n",
       "      <td>9225.0</td>\n",
       "      <td>9417.0</td>\n",
       "      <td>9617.0</td>\n",
       "      <td>1140.0</td>\n",
       "      <td>1150.0</td>\n",
       "      <td>331.0</td>\n",
       "      <td>341.0</td>\n",
       "      <td>356.0</td>\n",
       "      <td>330.0</td>\n",
       "      <td>0</td>\n",
       "    </tr>\n",
       "    <tr>\n",
       "      <th>...</th>\n",
       "      <td>...</td>\n",
       "      <td>...</td>\n",
       "      <td>...</td>\n",
       "      <td>...</td>\n",
       "      <td>...</td>\n",
       "      <td>...</td>\n",
       "      <td>...</td>\n",
       "      <td>...</td>\n",
       "      <td>...</td>\n",
       "      <td>...</td>\n",
       "      <td>...</td>\n",
       "      <td>...</td>\n",
       "      <td>...</td>\n",
       "      <td>...</td>\n",
       "      <td>...</td>\n",
       "      <td>...</td>\n",
       "      <td>...</td>\n",
       "      <td>...</td>\n",
       "      <td>...</td>\n",
       "      <td>...</td>\n",
       "      <td>...</td>\n",
       "    </tr>\n",
       "    <tr>\n",
       "      <th>17548</th>\n",
       "      <td>17549</td>\n",
       "      <td>60000.0</td>\n",
       "      <td>2</td>\n",
       "      <td>2</td>\n",
       "      <td>1</td>\n",
       "      <td>48</td>\n",
       "      <td>0</td>\n",
       "      <td>0</td>\n",
       "      <td>0</td>\n",
       "      <td>0</td>\n",
       "      <td>...</td>\n",
       "      <td>51808.0</td>\n",
       "      <td>16941.0</td>\n",
       "      <td>17295.0</td>\n",
       "      <td>2000.0</td>\n",
       "      <td>2100.0</td>\n",
       "      <td>1400.0</td>\n",
       "      <td>600.0</td>\n",
       "      <td>1000.0</td>\n",
       "      <td>1000.0</td>\n",
       "      <td>1</td>\n",
       "    </tr>\n",
       "    <tr>\n",
       "      <th>11459</th>\n",
       "      <td>11460</td>\n",
       "      <td>310000.0</td>\n",
       "      <td>1</td>\n",
       "      <td>2</td>\n",
       "      <td>1</td>\n",
       "      <td>43</td>\n",
       "      <td>-1</td>\n",
       "      <td>-1</td>\n",
       "      <td>-1</td>\n",
       "      <td>-1</td>\n",
       "      <td>...</td>\n",
       "      <td>2004.0</td>\n",
       "      <td>2503.0</td>\n",
       "      <td>814.0</td>\n",
       "      <td>2691.0</td>\n",
       "      <td>2060.0</td>\n",
       "      <td>2018.0</td>\n",
       "      <td>2505.0</td>\n",
       "      <td>816.0</td>\n",
       "      <td>3052.0</td>\n",
       "      <td>0</td>\n",
       "    </tr>\n",
       "    <tr>\n",
       "      <th>6608</th>\n",
       "      <td>6609</td>\n",
       "      <td>10000.0</td>\n",
       "      <td>2</td>\n",
       "      <td>2</td>\n",
       "      <td>2</td>\n",
       "      <td>22</td>\n",
       "      <td>0</td>\n",
       "      <td>0</td>\n",
       "      <td>0</td>\n",
       "      <td>0</td>\n",
       "      <td>...</td>\n",
       "      <td>8861.0</td>\n",
       "      <td>10104.0</td>\n",
       "      <td>9803.0</td>\n",
       "      <td>1284.0</td>\n",
       "      <td>1283.0</td>\n",
       "      <td>1000.0</td>\n",
       "      <td>1535.0</td>\n",
       "      <td>0.0</td>\n",
       "      <td>1000.0</td>\n",
       "      <td>0</td>\n",
       "    </tr>\n",
       "    <tr>\n",
       "      <th>2414</th>\n",
       "      <td>2415</td>\n",
       "      <td>30000.0</td>\n",
       "      <td>1</td>\n",
       "      <td>2</td>\n",
       "      <td>1</td>\n",
       "      <td>38</td>\n",
       "      <td>1</td>\n",
       "      <td>-1</td>\n",
       "      <td>-1</td>\n",
       "      <td>-1</td>\n",
       "      <td>...</td>\n",
       "      <td>2713.0</td>\n",
       "      <td>0.0</td>\n",
       "      <td>0.0</td>\n",
       "      <td>2281.0</td>\n",
       "      <td>3666.0</td>\n",
       "      <td>2713.0</td>\n",
       "      <td>0.0</td>\n",
       "      <td>0.0</td>\n",
       "      <td>0.0</td>\n",
       "      <td>1</td>\n",
       "    </tr>\n",
       "    <tr>\n",
       "      <th>14757</th>\n",
       "      <td>14758</td>\n",
       "      <td>30000.0</td>\n",
       "      <td>2</td>\n",
       "      <td>3</td>\n",
       "      <td>1</td>\n",
       "      <td>24</td>\n",
       "      <td>2</td>\n",
       "      <td>0</td>\n",
       "      <td>0</td>\n",
       "      <td>0</td>\n",
       "      <td>...</td>\n",
       "      <td>29621.0</td>\n",
       "      <td>27956.0</td>\n",
       "      <td>29484.0</td>\n",
       "      <td>2506.0</td>\n",
       "      <td>1748.0</td>\n",
       "      <td>1003.0</td>\n",
       "      <td>1022.0</td>\n",
       "      <td>2000.0</td>\n",
       "      <td>1000.0</td>\n",
       "      <td>0</td>\n",
       "    </tr>\n",
       "  </tbody>\n",
       "</table>\n",
       "<p>9000 rows × 25 columns</p>\n",
       "</div>"
      ],
      "text/plain": [
       "          ID  LIMIT_BAL  SEX  EDUCATION  MARRIAGE  AGE  PAY_0  PAY_2  PAY_3  \\\n",
       "25665  25666    40000.0    2          2         2   26     -1      0      0   \n",
       "16464  16465    80000.0    2          3         1   59      0      0      0   \n",
       "22386  22387   170000.0    2          1         2   30      2      2      2   \n",
       "10149  10150   200000.0    2          2         1   41     -2     -2     -2   \n",
       "8729    8730    50000.0    1          2         1   43      0      0      0   \n",
       "...      ...        ...  ...        ...       ...  ...    ...    ...    ...   \n",
       "17548  17549    60000.0    2          2         1   48      0      0      0   \n",
       "11459  11460   310000.0    1          2         1   43     -1     -1     -1   \n",
       "6608    6609    10000.0    2          2         2   22      0      0      0   \n",
       "2414    2415    30000.0    1          2         1   38      1     -1     -1   \n",
       "14757  14758    30000.0    2          3         1   24      2      0      0   \n",
       "\n",
       "       PAY_4  ...  BILL_AMT4  BILL_AMT5  BILL_AMT6  PAY_AMT1  PAY_AMT2  \\\n",
       "25665      0  ...        0.0    44024.0    18697.0    1300.0    1000.0   \n",
       "16464      0  ...    50875.0    50372.0    49470.0    3212.0    2106.0   \n",
       "22386      2  ...   157577.0   168094.0   170922.0    6800.0    6500.0   \n",
       "10149     -2  ...        0.0        0.0        0.0     742.0       0.0   \n",
       "8729       0  ...     9225.0     9417.0     9617.0    1140.0    1150.0   \n",
       "...      ...  ...        ...        ...        ...       ...       ...   \n",
       "17548      0  ...    51808.0    16941.0    17295.0    2000.0    2100.0   \n",
       "11459     -1  ...     2004.0     2503.0      814.0    2691.0    2060.0   \n",
       "6608       0  ...     8861.0    10104.0     9803.0    1284.0    1283.0   \n",
       "2414      -1  ...     2713.0        0.0        0.0    2281.0    3666.0   \n",
       "14757      0  ...    29621.0    27956.0    29484.0    2506.0    1748.0   \n",
       "\n",
       "       PAY_AMT3  PAY_AMT4  PAY_AMT5  PAY_AMT6  default.payment.next.month  \n",
       "25665       0.0   22373.0     680.0   10000.0                           0  \n",
       "16464    2000.0    1603.0    1903.0    2006.0                           0  \n",
       "22386       0.0   13000.0    5500.0    1000.0                           1  \n",
       "10149       0.0       0.0       0.0       0.0                           1  \n",
       "8729      331.0     341.0     356.0     330.0                           0  \n",
       "...         ...       ...       ...       ...                         ...  \n",
       "17548    1400.0     600.0    1000.0    1000.0                           1  \n",
       "11459    2018.0    2505.0     816.0    3052.0                           0  \n",
       "6608     1000.0    1535.0       0.0    1000.0                           0  \n",
       "2414     2713.0       0.0       0.0       0.0                           1  \n",
       "14757    1003.0    1022.0    2000.0    1000.0                           0  \n",
       "\n",
       "[9000 rows x 25 columns]"
      ]
     },
<<<<<<< HEAD
     "execution_count": 6,
=======
     "execution_count": 56,
>>>>>>> 638fd2c8277879254c0e2468f3e46f31f255a018
     "metadata": {},
     "output_type": "execute_result"
    }
   ],
   "source": [
    "test_df"
   ]
  },
  {
   "cell_type": "markdown",
   "metadata": {
    "deletable": false,
    "editable": false
   },
   "source": [
    "<!-- END QUESTION -->\n",
    "\n",
    "<br><br>"
   ]
  },
  {
   "cell_type": "markdown",
   "metadata": {
    "deletable": false,
    "editable": false
   },
   "source": [
    "<!-- BEGIN QUESTION -->\n",
    "\n",
    "## 3. EDA <a name=\"3\"></a>\n",
    "<hr>\n",
    "rubric={points:10}\n",
    "\n",
    "**Your tasks:**\n",
    "\n",
    "1. Perform exploratory data analysis on the train set.\n",
    "2. Include at least two summary statistics and two visualizations that you find useful, and accompany each one with a sentence explaining it.\n",
    "3. Summarize your initial observations about the data. \n",
    "4. Pick appropriate metric/metrics for assessment. "
   ]
  },
  {
   "cell_type": "markdown",
   "metadata": {
    "deletable": false,
    "editable": false
   },
   "source": [
    "<div class=\"alert alert-warning\">\n",
    "    \n",
    "Solution_3\n",
    "    \n",
    "</div>\n",
    "\n",
    "_Points:_ 10"
   ]
  },
  {
   "cell_type": "markdown",
   "metadata": {},
   "source": [
    "Let's start the EDA. First we will use the `describe()` function to get summary statistics on the training set, including counts, quartiles, mean, and standard deviations."
   ]
  },
  {
   "cell_type": "markdown",
   "metadata": {},
   "source": [
    "### Summary Statistics"
   ]
  },
  {
   "cell_type": "code",
<<<<<<< HEAD
   "execution_count": 7,
=======
   "execution_count": 57,
>>>>>>> 638fd2c8277879254c0e2468f3e46f31f255a018
   "metadata": {},
   "outputs": [
    {
     "data": {
      "text/html": [
       "<div>\n",
       "<style scoped>\n",
       "    .dataframe tbody tr th:only-of-type {\n",
       "        vertical-align: middle;\n",
       "    }\n",
       "\n",
       "    .dataframe tbody tr th {\n",
       "        vertical-align: top;\n",
       "    }\n",
       "\n",
       "    .dataframe thead th {\n",
       "        text-align: right;\n",
       "    }\n",
       "</style>\n",
       "<table border=\"1\" class=\"dataframe\">\n",
       "  <thead>\n",
       "    <tr style=\"text-align: right;\">\n",
       "      <th></th>\n",
       "      <th>ID</th>\n",
       "      <th>LIMIT_BAL</th>\n",
       "      <th>SEX</th>\n",
       "      <th>EDUCATION</th>\n",
       "      <th>MARRIAGE</th>\n",
       "      <th>AGE</th>\n",
       "      <th>PAY_0</th>\n",
       "      <th>PAY_2</th>\n",
       "      <th>PAY_3</th>\n",
       "      <th>PAY_4</th>\n",
       "      <th>...</th>\n",
       "      <th>BILL_AMT4</th>\n",
       "      <th>BILL_AMT5</th>\n",
       "      <th>BILL_AMT6</th>\n",
       "      <th>PAY_AMT1</th>\n",
       "      <th>PAY_AMT2</th>\n",
       "      <th>PAY_AMT3</th>\n",
       "      <th>PAY_AMT4</th>\n",
       "      <th>PAY_AMT5</th>\n",
       "      <th>PAY_AMT6</th>\n",
       "      <th>default.payment.next.month</th>\n",
       "    </tr>\n",
       "  </thead>\n",
       "  <tbody>\n",
       "    <tr>\n",
       "      <th>count</th>\n",
       "      <td>21000.000000</td>\n",
       "      <td>21000.000000</td>\n",
       "      <td>21000.000000</td>\n",
       "      <td>21000.000000</td>\n",
       "      <td>21000.000000</td>\n",
       "      <td>21000.000000</td>\n",
       "      <td>21000.000000</td>\n",
       "      <td>21000.000000</td>\n",
       "      <td>21000.000000</td>\n",
       "      <td>21000.000000</td>\n",
       "      <td>...</td>\n",
       "      <td>21000.000000</td>\n",
       "      <td>21000.000000</td>\n",
       "      <td>21000.000000</td>\n",
       "      <td>21000.000000</td>\n",
       "      <td>2.100000e+04</td>\n",
       "      <td>21000.000000</td>\n",
       "      <td>21000.000000</td>\n",
       "      <td>21000.000000</td>\n",
       "      <td>21000.000000</td>\n",
       "      <td>21000.000000</td>\n",
       "    </tr>\n",
       "    <tr>\n",
       "      <th>mean</th>\n",
       "      <td>14962.348238</td>\n",
       "      <td>167880.651429</td>\n",
       "      <td>1.600762</td>\n",
       "      <td>1.852143</td>\n",
       "      <td>1.554000</td>\n",
       "      <td>35.500810</td>\n",
       "      <td>-0.015429</td>\n",
       "      <td>-0.137095</td>\n",
       "      <td>-0.171619</td>\n",
       "      <td>-0.225238</td>\n",
       "      <td>...</td>\n",
       "      <td>43486.610905</td>\n",
       "      <td>40428.518333</td>\n",
       "      <td>38767.202667</td>\n",
       "      <td>5673.585143</td>\n",
       "      <td>5.895027e+03</td>\n",
       "      <td>5311.432286</td>\n",
       "      <td>4774.021381</td>\n",
       "      <td>4751.850095</td>\n",
       "      <td>5237.762190</td>\n",
       "      <td>0.223238</td>\n",
       "    </tr>\n",
       "    <tr>\n",
       "      <th>std</th>\n",
       "      <td>8650.734050</td>\n",
       "      <td>130202.682167</td>\n",
       "      <td>0.489753</td>\n",
       "      <td>0.792961</td>\n",
       "      <td>0.521675</td>\n",
       "      <td>9.212644</td>\n",
       "      <td>1.120465</td>\n",
       "      <td>1.194506</td>\n",
       "      <td>1.196123</td>\n",
       "      <td>1.168556</td>\n",
       "      <td>...</td>\n",
       "      <td>64843.303993</td>\n",
       "      <td>61187.200817</td>\n",
       "      <td>59587.689549</td>\n",
       "      <td>17033.241454</td>\n",
       "      <td>2.180143e+04</td>\n",
       "      <td>18377.997079</td>\n",
       "      <td>15434.136142</td>\n",
       "      <td>15228.193125</td>\n",
       "      <td>18116.846563</td>\n",
       "      <td>0.416427</td>\n",
       "    </tr>\n",
       "    <tr>\n",
       "      <th>min</th>\n",
       "      <td>1.000000</td>\n",
       "      <td>10000.000000</td>\n",
       "      <td>1.000000</td>\n",
       "      <td>0.000000</td>\n",
       "      <td>0.000000</td>\n",
       "      <td>21.000000</td>\n",
       "      <td>-2.000000</td>\n",
       "      <td>-2.000000</td>\n",
       "      <td>-2.000000</td>\n",
       "      <td>-2.000000</td>\n",
       "      <td>...</td>\n",
       "      <td>-50616.000000</td>\n",
       "      <td>-61372.000000</td>\n",
       "      <td>-339603.000000</td>\n",
       "      <td>0.000000</td>\n",
       "      <td>0.000000e+00</td>\n",
       "      <td>0.000000</td>\n",
       "      <td>0.000000</td>\n",
       "      <td>0.000000</td>\n",
       "      <td>0.000000</td>\n",
       "      <td>0.000000</td>\n",
       "    </tr>\n",
       "    <tr>\n",
       "      <th>25%</th>\n",
       "      <td>7498.750000</td>\n",
       "      <td>50000.000000</td>\n",
       "      <td>1.000000</td>\n",
       "      <td>1.000000</td>\n",
       "      <td>1.000000</td>\n",
       "      <td>28.000000</td>\n",
       "      <td>-1.000000</td>\n",
       "      <td>-1.000000</td>\n",
       "      <td>-1.000000</td>\n",
       "      <td>-1.000000</td>\n",
       "      <td>...</td>\n",
       "      <td>2293.750000</td>\n",
       "      <td>1739.500000</td>\n",
       "      <td>1215.750000</td>\n",
       "      <td>1000.000000</td>\n",
       "      <td>8.200000e+02</td>\n",
       "      <td>390.000000</td>\n",
       "      <td>266.000000</td>\n",
       "      <td>234.000000</td>\n",
       "      <td>110.750000</td>\n",
       "      <td>0.000000</td>\n",
       "    </tr>\n",
       "    <tr>\n",
       "      <th>50%</th>\n",
       "      <td>14960.500000</td>\n",
       "      <td>140000.000000</td>\n",
       "      <td>2.000000</td>\n",
       "      <td>2.000000</td>\n",
       "      <td>2.000000</td>\n",
       "      <td>34.000000</td>\n",
       "      <td>0.000000</td>\n",
       "      <td>0.000000</td>\n",
       "      <td>0.000000</td>\n",
       "      <td>0.000000</td>\n",
       "      <td>...</td>\n",
       "      <td>19102.500000</td>\n",
       "      <td>18083.000000</td>\n",
       "      <td>16854.500000</td>\n",
       "      <td>2100.000000</td>\n",
       "      <td>2.007000e+03</td>\n",
       "      <td>1809.500000</td>\n",
       "      <td>1500.000000</td>\n",
       "      <td>1500.000000</td>\n",
       "      <td>1500.000000</td>\n",
       "      <td>0.000000</td>\n",
       "    </tr>\n",
       "    <tr>\n",
       "      <th>75%</th>\n",
       "      <td>22458.250000</td>\n",
       "      <td>240000.000000</td>\n",
       "      <td>2.000000</td>\n",
       "      <td>2.000000</td>\n",
       "      <td>2.000000</td>\n",
       "      <td>41.000000</td>\n",
       "      <td>0.000000</td>\n",
       "      <td>0.000000</td>\n",
       "      <td>0.000000</td>\n",
       "      <td>0.000000</td>\n",
       "      <td>...</td>\n",
       "      <td>54763.250000</td>\n",
       "      <td>50491.000000</td>\n",
       "      <td>49253.750000</td>\n",
       "      <td>5007.250000</td>\n",
       "      <td>5.000000e+03</td>\n",
       "      <td>4628.500000</td>\n",
       "      <td>4021.250000</td>\n",
       "      <td>4016.000000</td>\n",
       "      <td>4000.000000</td>\n",
       "      <td>0.000000</td>\n",
       "    </tr>\n",
       "    <tr>\n",
       "      <th>max</th>\n",
       "      <td>30000.000000</td>\n",
       "      <td>1000000.000000</td>\n",
       "      <td>2.000000</td>\n",
       "      <td>6.000000</td>\n",
       "      <td>3.000000</td>\n",
       "      <td>79.000000</td>\n",
       "      <td>8.000000</td>\n",
       "      <td>8.000000</td>\n",
       "      <td>8.000000</td>\n",
       "      <td>8.000000</td>\n",
       "      <td>...</td>\n",
       "      <td>891586.000000</td>\n",
       "      <td>927171.000000</td>\n",
       "      <td>961664.000000</td>\n",
       "      <td>873552.000000</td>\n",
       "      <td>1.227082e+06</td>\n",
       "      <td>896040.000000</td>\n",
       "      <td>621000.000000</td>\n",
       "      <td>426529.000000</td>\n",
       "      <td>528666.000000</td>\n",
       "      <td>1.000000</td>\n",
       "    </tr>\n",
       "  </tbody>\n",
       "</table>\n",
       "<p>8 rows × 25 columns</p>\n",
       "</div>"
      ],
      "text/plain": [
       "                 ID       LIMIT_BAL           SEX     EDUCATION      MARRIAGE  \\\n",
       "count  21000.000000    21000.000000  21000.000000  21000.000000  21000.000000   \n",
       "mean   14962.348238   167880.651429      1.600762      1.852143      1.554000   \n",
       "std     8650.734050   130202.682167      0.489753      0.792961      0.521675   \n",
       "min        1.000000    10000.000000      1.000000      0.000000      0.000000   \n",
       "25%     7498.750000    50000.000000      1.000000      1.000000      1.000000   \n",
       "50%    14960.500000   140000.000000      2.000000      2.000000      2.000000   \n",
       "75%    22458.250000   240000.000000      2.000000      2.000000      2.000000   \n",
       "max    30000.000000  1000000.000000      2.000000      6.000000      3.000000   \n",
       "\n",
       "                AGE         PAY_0         PAY_2         PAY_3         PAY_4  \\\n",
       "count  21000.000000  21000.000000  21000.000000  21000.000000  21000.000000   \n",
       "mean      35.500810     -0.015429     -0.137095     -0.171619     -0.225238   \n",
       "std        9.212644      1.120465      1.194506      1.196123      1.168556   \n",
       "min       21.000000     -2.000000     -2.000000     -2.000000     -2.000000   \n",
       "25%       28.000000     -1.000000     -1.000000     -1.000000     -1.000000   \n",
       "50%       34.000000      0.000000      0.000000      0.000000      0.000000   \n",
       "75%       41.000000      0.000000      0.000000      0.000000      0.000000   \n",
       "max       79.000000      8.000000      8.000000      8.000000      8.000000   \n",
       "\n",
       "       ...      BILL_AMT4      BILL_AMT5      BILL_AMT6       PAY_AMT1  \\\n",
       "count  ...   21000.000000   21000.000000   21000.000000   21000.000000   \n",
       "mean   ...   43486.610905   40428.518333   38767.202667    5673.585143   \n",
       "std    ...   64843.303993   61187.200817   59587.689549   17033.241454   \n",
       "min    ...  -50616.000000  -61372.000000 -339603.000000       0.000000   \n",
       "25%    ...    2293.750000    1739.500000    1215.750000    1000.000000   \n",
       "50%    ...   19102.500000   18083.000000   16854.500000    2100.000000   \n",
       "75%    ...   54763.250000   50491.000000   49253.750000    5007.250000   \n",
       "max    ...  891586.000000  927171.000000  961664.000000  873552.000000   \n",
       "\n",
       "           PAY_AMT2       PAY_AMT3       PAY_AMT4       PAY_AMT5  \\\n",
       "count  2.100000e+04   21000.000000   21000.000000   21000.000000   \n",
       "mean   5.895027e+03    5311.432286    4774.021381    4751.850095   \n",
       "std    2.180143e+04   18377.997079   15434.136142   15228.193125   \n",
       "min    0.000000e+00       0.000000       0.000000       0.000000   \n",
       "25%    8.200000e+02     390.000000     266.000000     234.000000   \n",
       "50%    2.007000e+03    1809.500000    1500.000000    1500.000000   \n",
       "75%    5.000000e+03    4628.500000    4021.250000    4016.000000   \n",
       "max    1.227082e+06  896040.000000  621000.000000  426529.000000   \n",
       "\n",
       "            PAY_AMT6  default.payment.next.month  \n",
       "count   21000.000000                21000.000000  \n",
       "mean     5237.762190                    0.223238  \n",
       "std     18116.846563                    0.416427  \n",
       "min         0.000000                    0.000000  \n",
       "25%       110.750000                    0.000000  \n",
       "50%      1500.000000                    0.000000  \n",
       "75%      4000.000000                    0.000000  \n",
       "max    528666.000000                    1.000000  \n",
       "\n",
       "[8 rows x 25 columns]"
      ]
     },
<<<<<<< HEAD
     "execution_count": 7,
=======
     "execution_count": 57,
>>>>>>> 638fd2c8277879254c0e2468f3e46f31f255a018
     "metadata": {},
     "output_type": "execute_result"
    }
   ],
   "source": [
    "summary_stats = train_df.describe()\n",
    "summary_stats"
   ]
  },
  {
   "cell_type": "markdown",
   "metadata": {},
   "source": [
    "#### **2 Interesting/Useful Summary Statistics**\n",
    "\n",
    "- **Credit Limit (LIMIT_BAL)** – The mean credit limit is 167,880 NT dollars, but the standard deviation is very high (130,202 NT dollars), indicating a significant variation in credit limits among customers. The minimum credit limit is 10,000, while some customers have limits as high as 1,000,000 NT dollars, which suggests that the dataset includes both low-risk and high-risk borrowers.\n",
    "- **Age (AGE)** – The mean age is 35.5 years, with a minimum of 21 and a maximum of 79, showing that the dataset covers a broad range of credit card users. The standard deviation is 9.2, meaning most customers are within roughly a decade of the mean age. Age can be an important predictor of default risk, as younger individuals may have less financial stability or credit history, while older customers may have more established financial habits."
   ]
  },
  {
   "cell_type": "markdown",
   "metadata": {},
   "source": [
    "### Data Types & Missing Data"
   ]
  },
  {
   "cell_type": "code",
<<<<<<< HEAD
   "execution_count": 8,
=======
   "execution_count": 58,
>>>>>>> 638fd2c8277879254c0e2468f3e46f31f255a018
   "metadata": {},
   "outputs": [
    {
     "name": "stdout",
     "output_type": "stream",
     "text": [
      "<class 'pandas.core.frame.DataFrame'>\n",
      "Index: 21000 entries, 16395 to 19966\n",
      "Data columns (total 25 columns):\n",
      " #   Column                      Non-Null Count  Dtype  \n",
      "---  ------                      --------------  -----  \n",
      " 0   ID                          21000 non-null  int64  \n",
      " 1   LIMIT_BAL                   21000 non-null  float64\n",
      " 2   SEX                         21000 non-null  int64  \n",
      " 3   EDUCATION                   21000 non-null  int64  \n",
      " 4   MARRIAGE                    21000 non-null  int64  \n",
      " 5   AGE                         21000 non-null  int64  \n",
      " 6   PAY_0                       21000 non-null  int64  \n",
      " 7   PAY_2                       21000 non-null  int64  \n",
      " 8   PAY_3                       21000 non-null  int64  \n",
      " 9   PAY_4                       21000 non-null  int64  \n",
      " 10  PAY_5                       21000 non-null  int64  \n",
      " 11  PAY_6                       21000 non-null  int64  \n",
      " 12  BILL_AMT1                   21000 non-null  float64\n",
      " 13  BILL_AMT2                   21000 non-null  float64\n",
      " 14  BILL_AMT3                   21000 non-null  float64\n",
      " 15  BILL_AMT4                   21000 non-null  float64\n",
      " 16  BILL_AMT5                   21000 non-null  float64\n",
      " 17  BILL_AMT6                   21000 non-null  float64\n",
      " 18  PAY_AMT1                    21000 non-null  float64\n",
      " 19  PAY_AMT2                    21000 non-null  float64\n",
      " 20  PAY_AMT3                    21000 non-null  float64\n",
      " 21  PAY_AMT4                    21000 non-null  float64\n",
      " 22  PAY_AMT5                    21000 non-null  float64\n",
      " 23  PAY_AMT6                    21000 non-null  float64\n",
      " 24  default.payment.next.month  21000 non-null  int64  \n",
      "dtypes: float64(13), int64(12)\n",
      "memory usage: 4.7 MB\n"
     ]
    }
   ],
   "source": [
    "train_df.info()"
   ]
  },
  {
   "cell_type": "markdown",
   "metadata": {},
   "source": [
<<<<<<< HEAD
    "After running `.info()` on the training set, we can see that there are *no missing values* for both the features and the target variable `default.payment.next.month`. They all have a count of 21,000. We see that all the data types are classified as numerical, however when we look at the variable types a little closer, we can see that there are binary variables (0/1), categorical, as well as ordinal too (in addition to the continuous numerical variables like age). Therefore, we wouldn't need to run a `SimpleImputer()` preprocessor."
   ]
  },
  {
   "cell_type": "markdown",
   "metadata": {},
   "source": [
    "### Class Distribution"
=======
    "As shown, all datatypes are numeric. However, there are actually different meanings and real world implications for each predictor. For pure numerical predictors, many have varying mean and range values, demonstrating the need to apply StandardScaler() for each numeric column. For predictors such as education, it seems the values are already ordered so no need to apply additional transformation. Then for predictors such as sex, marriage which are represented by numerical values, perhaps it is best to apply OneHotEncoder() because we shouldn't be ordering these categorical values as they have no ordered implication in the real world. Finally, there is no null value, so SimpleImputer() would not be needed. ID should also be dropped as it would have no real prediction power on default. "
>>>>>>> 638fd2c8277879254c0e2468f3e46f31f255a018
   ]
  },
  {
   "cell_type": "code",
<<<<<<< HEAD
   "execution_count": 9,
=======
   "execution_count": 59,
>>>>>>> 638fd2c8277879254c0e2468f3e46f31f255a018
   "metadata": {},
   "outputs": [
    {
     "data": {
      "text/plain": [
       "default.payment.next.month\n",
       "0    0.776762\n",
       "1    0.223238\n",
       "Name: proportion, dtype: float64"
      ]
     },
<<<<<<< HEAD
     "execution_count": 9,
=======
     "execution_count": 59,
>>>>>>> 638fd2c8277879254c0e2468f3e46f31f255a018
     "metadata": {},
     "output_type": "execute_result"
    }
   ],
   "source": [
    "class_distribution = train_df[\"default.payment.next.month\"].value_counts(normalize=True)\n",
    "class_distribution"
   ]
  },
  {
   "cell_type": "markdown",
   "metadata": {},
   "source": [
    "Since 0 is the non-default class and 1 is the default class, then the output shows the proportion of observations for each class in the default.payment.next.month column:\n",
    "\n",
    "- 0 (Non-default): 0.776762 - ~77.7% of the customers did not default.\n",
    "- 1 (Default): 0.223238 - ~22.3% of the customers defaulted on their credit card payments.\n",
    "\n",
    "We have to keep this in mind when we are completing our analysis, and may have to use"
   ]
  },
  {
   "cell_type": "code",
   "execution_count": null,
   "metadata": {},
   "outputs": [],
   "source": []
  },
  {
   "cell_type": "code",
   "execution_count": 60,
   "metadata": {
    "tags": []
   },
   "outputs": [
    {
     "data": {
      "image/png": "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",
      "text/plain": [
       "<Figure size 800x500 with 1 Axes>"
      ]
     },
     "metadata": {},
     "output_type": "display_data"
    },
    {
     "data": {
      "image/png": "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",
      "text/plain": [
       "<Figure size 800x500 with 1 Axes>"
      ]
     },
     "metadata": {},
     "output_type": "display_data"
    },
    {
     "ename": "ModuleNotFoundError",
     "evalue": "No module named 'ace_tools'",
     "output_type": "error",
     "traceback": [
      "\u001b[0;31m---------------------------------------------------------------------------\u001b[0m",
      "\u001b[0;31mModuleNotFoundError\u001b[0m                       Traceback (most recent call last)",
      "Cell \u001b[0;32mIn[60], line 23\u001b[0m\n\u001b[1;32m     20\u001b[0m plt\u001b[38;5;241m.\u001b[39mshow()\n\u001b[1;32m     22\u001b[0m \u001b[38;5;66;03m# Display summary statistics\u001b[39;00m\n\u001b[0;32m---> 23\u001b[0m \u001b[38;5;28;01mimport\u001b[39;00m\u001b[38;5;250m \u001b[39m\u001b[38;5;21;01mace_tools\u001b[39;00m\u001b[38;5;250m \u001b[39m\u001b[38;5;28;01mas\u001b[39;00m\u001b[38;5;250m \u001b[39m\u001b[38;5;21;01mtools\u001b[39;00m\n\u001b[1;32m     24\u001b[0m tools\u001b[38;5;241m.\u001b[39mdisplay_dataframe_to_user(name\u001b[38;5;241m=\u001b[39m\u001b[38;5;124m\"\u001b[39m\u001b[38;5;124mSummary Statistics\u001b[39m\u001b[38;5;124m\"\u001b[39m, dataframe\u001b[38;5;241m=\u001b[39msummary_stats)\n\u001b[1;32m     26\u001b[0m \u001b[38;5;66;03m# Display class distribution\u001b[39;00m\n",
      "\u001b[0;31mModuleNotFoundError\u001b[0m: No module named 'ace_tools'"
     ]
    }
   ],
   "source": [
    "# Summary statistics\n",
    "\n",
    "# Check class balance in training set\n",
    "class_distribution = y_train.value_counts(normalize=True)\n",
    "\n",
    "# Visualization 1: Distribution of Credit Limit (LIMIT_BAL)\n",
    "plt.figure(figsize=(8, 5))\n",
    "sns.histplot(X_train[\"LIMIT_BAL\"], bins=50, kde=True)\n",
    "plt.title(\"Distribution of Credit Limits\")\n",
    "plt.xlabel(\"Credit Limit (NT Dollars)\")\n",
    "plt.ylabel(\"Frequency\")\n",
    "plt.show()\n",
    "\n",
    "# Visualization 2: Default Rate by Education Level\n",
    "plt.figure(figsize=(8, 5))\n",
    "sns.barplot(x=X_train[\"EDUCATION\"], y=y_train, estimator=lambda x: sum(x)/len(x))\n",
    "plt.title(\"Default Rate by Education Level\")\n",
    "plt.xlabel(\"Education Level (1=Graduate, 2=University, 3=High School, 4=Other)\")\n",
    "plt.ylabel(\"Default Rate\")\n",
    "plt.show()\n",
    "\n",
    "# Display summary statistics\n",
    "import ace_tools as tools\n",
    "tools.display_dataframe_to_user(name=\"Summary Statistics\", dataframe=summary_stats)\n",
    "\n",
    "# Display class distribution\n",
    "class_distribution\n"
   ]
  },
  {
   "cell_type": "code",
   "execution_count": null,
   "metadata": {},
   "outputs": [],
   "source": []
  },
  {
   "cell_type": "markdown",
   "metadata": {},
   "source": [
    "Next, we can explore each variable's individual prediction power for customer default behaviour using boxplots."
   ]
  },
  {
   "cell_type": "code",
   "execution_count": null,
   "metadata": {
    "tags": []
   },
   "outputs": [],
   "source": [
    "train_df = X_train.join(y_train)\n",
    "columns = train_df.drop(columns = [\"ID\", \"default.payment.next.month\"]).columns.tolist()\n",
    "for c in columns:\n",
    "    plt.figure(figsize=(6, 4))  \n",
    "    sns.boxplot(data=train_df, x=\"default.payment.next.month\", y=c, palette=\"pastel\", hue=\"default.payment.next.month\") \n",
    "    plt.title(\"Boxplot of \" + c)  \n",
    "    plt.xlabel(\"Defaulting Behaviour (1 = Default)\") \n",
    "    plt.legend(fontsize=\"small\")\n",
    "    plt.ylabel(c)\n",
    "    plt.show() "
   ]
  },
  {
   "cell_type": "markdown",
   "metadata": {
    "tags": []
   },
   "source": [
    "So from the box plots, we can observe prediction power based on the range of difference of the 0 and 1 group spreads. Predictors such as pay_0 to pay_5 has the largest difference. Predictors relating to customer personal information such as sex, marriage, age, or education seems not to have too much power. To prevent bias, the sex feature should be dropped. There is also significant skewness indicating heavy outlier prescence, so perhaps we should apply log transformation to prevent skewness. "
   ]
  },
  {
   "cell_type": "markdown",
   "metadata": {},
   "source": [
    "Finally, we can explore whether there is class imbalance in the data. By observing the count of each value of target (0 = No default, 1 = default). "
   ]
  },
  {
   "cell_type": "code",
   "execution_count": 62,
   "metadata": {
    "tags": []
   },
   "outputs": [
    {
     "data": {
      "text/html": [
       "<div>\n",
       "<style scoped>\n",
       "    .dataframe tbody tr th:only-of-type {\n",
       "        vertical-align: middle;\n",
       "    }\n",
       "\n",
       "    .dataframe tbody tr th {\n",
       "        vertical-align: top;\n",
       "    }\n",
       "\n",
       "    .dataframe thead th {\n",
       "        text-align: right;\n",
       "    }\n",
       "</style>\n",
       "<table border=\"1\" class=\"dataframe\">\n",
       "  <thead>\n",
       "    <tr style=\"text-align: right;\">\n",
       "      <th></th>\n",
       "      <th>Count</th>\n",
       "      <th>Weight</th>\n",
       "    </tr>\n",
       "  </thead>\n",
       "  <tbody>\n",
       "    <tr>\n",
       "      <th>0</th>\n",
       "      <td>16312</td>\n",
       "      <td>0.776762</td>\n",
       "    </tr>\n",
       "    <tr>\n",
       "      <th>1</th>\n",
       "      <td>4688</td>\n",
       "      <td>0.223238</td>\n",
       "    </tr>\n",
       "  </tbody>\n",
       "</table>\n",
       "</div>"
      ],
      "text/plain": [
       "   Count    Weight\n",
       "0  16312  0.776762\n",
       "1   4688  0.223238"
      ]
     },
     "execution_count": 62,
     "metadata": {},
     "output_type": "execute_result"
    }
   ],
   "source": [
    "count = train_df[\"default.payment.next.month\"].value_counts().tolist()\n",
    "weight = [count[0]/(count[0]+count[1]), count[1]/(count[0]+count[1])]\n",
    "\n",
    "table = {\"Count\": count,\n",
    "         \"Weight\": weight}\n",
    "tabledf = pd.DataFrame(table)\n",
    "tabledf"
   ]
  },
  {
   "cell_type": "markdown",
   "metadata": {},
   "source": [
    "So there is some class imbalance in our data, indicating the need to adjust for this later. "
   ]
  },
  {
   "cell_type": "code",
   "execution_count": 43,
   "metadata": {
    "tags": []
   },
   "outputs": [
    {
     "data": {
      "text/plain": [
       "Ellipsis"
      ]
     },
     "execution_count": 43,
     "metadata": {},
     "output_type": "execute_result"
    }
   ],
   "source": [
    "..."
   ]
  },
  {
   "cell_type": "markdown",
   "metadata": {
    "deletable": false,
    "editable": false
   },
   "source": [
    "<!-- END QUESTION -->\n",
    "\n",
    "<br><br>"
   ]
  },
  {
   "cell_type": "markdown",
   "metadata": {
    "deletable": false,
    "editable": false
   },
   "source": [
    "<!-- BEGIN QUESTION -->\n",
    "\n",
    "## 4. Feature engineering <a name=\"4\"></a>\n",
    "<hr>\n",
    "rubric={points:1}\n",
    "\n",
    "**Your tasks:**\n",
    "\n",
    "1. Carry out feature engineering. In other words, extract new features relevant for the problem and work with your new feature set in the following exercises. You may have to go back and forth between feature engineering and preprocessing. "
   ]
  },
  {
   "cell_type": "markdown",
   "metadata": {
    "deletable": false,
    "editable": false
   },
   "source": [
    "<div class=\"alert alert-warning\">\n",
    "    \n",
    "Solution_4\n",
    "    \n",
    "</div>\n",
    "\n",
    "_Points:_ 1"
   ]
  },
  {
   "cell_type": "code",
   "execution_count": 63,
   "metadata": {},
   "outputs": [
    {
     "data": {
      "text/html": [
       "<div>\n",
       "<style scoped>\n",
       "    .dataframe tbody tr th:only-of-type {\n",
       "        vertical-align: middle;\n",
       "    }\n",
       "\n",
       "    .dataframe tbody tr th {\n",
       "        vertical-align: top;\n",
       "    }\n",
       "\n",
       "    .dataframe thead th {\n",
       "        text-align: right;\n",
       "    }\n",
       "</style>\n",
       "<table border=\"1\" class=\"dataframe\">\n",
       "  <thead>\n",
       "    <tr style=\"text-align: right;\">\n",
       "      <th></th>\n",
       "      <th>ID</th>\n",
       "      <th>LIMIT_BAL</th>\n",
       "      <th>SEX</th>\n",
       "      <th>EDUCATION</th>\n",
       "      <th>MARRIAGE</th>\n",
       "      <th>AGE</th>\n",
       "      <th>PAY_0</th>\n",
       "      <th>PAY_2</th>\n",
       "      <th>PAY_3</th>\n",
       "      <th>PAY_4</th>\n",
       "      <th>...</th>\n",
       "      <th>LATE_COUNT</th>\n",
       "      <th>RATIO_1</th>\n",
       "      <th>RATIO_2</th>\n",
       "      <th>RATIO_3</th>\n",
       "      <th>RATIO_4</th>\n",
       "      <th>RATIO_5</th>\n",
       "      <th>RATIO_6</th>\n",
       "      <th>RATIO_STD</th>\n",
       "      <th>RATIO_MEAN</th>\n",
       "      <th>MAX_DELINQUENCY</th>\n",
       "    </tr>\n",
       "  </thead>\n",
       "  <tbody>\n",
       "    <tr>\n",
       "      <th>0</th>\n",
       "      <td>1</td>\n",
       "      <td>20000.0</td>\n",
       "      <td>2</td>\n",
       "      <td>2</td>\n",
       "      <td>1</td>\n",
       "      <td>24</td>\n",
       "      <td>2</td>\n",
       "      <td>2</td>\n",
       "      <td>-1</td>\n",
       "      <td>-1</td>\n",
       "      <td>...</td>\n",
       "      <td>2</td>\n",
       "      <td>0.000000</td>\n",
       "      <td>0.222115</td>\n",
       "      <td>0.000000</td>\n",
       "      <td>NaN</td>\n",
       "      <td>NaN</td>\n",
       "      <td>NaN</td>\n",
       "      <td>0.128238</td>\n",
       "      <td>0.074038</td>\n",
       "      <td>2</td>\n",
       "    </tr>\n",
       "    <tr>\n",
       "      <th>1</th>\n",
       "      <td>2</td>\n",
       "      <td>120000.0</td>\n",
       "      <td>2</td>\n",
       "      <td>2</td>\n",
       "      <td>2</td>\n",
       "      <td>26</td>\n",
       "      <td>-1</td>\n",
       "      <td>2</td>\n",
       "      <td>0</td>\n",
       "      <td>0</td>\n",
       "      <td>...</td>\n",
       "      <td>2</td>\n",
       "      <td>0.000000</td>\n",
       "      <td>0.579710</td>\n",
       "      <td>0.372856</td>\n",
       "      <td>0.305623</td>\n",
       "      <td>0.000000</td>\n",
       "      <td>0.613309</td>\n",
       "      <td>0.268659</td>\n",
       "      <td>0.311916</td>\n",
       "      <td>2</td>\n",
       "    </tr>\n",
       "    <tr>\n",
       "      <th>2</th>\n",
       "      <td>3</td>\n",
       "      <td>90000.0</td>\n",
       "      <td>2</td>\n",
       "      <td>2</td>\n",
       "      <td>2</td>\n",
       "      <td>34</td>\n",
       "      <td>0</td>\n",
       "      <td>0</td>\n",
       "      <td>0</td>\n",
       "      <td>0</td>\n",
       "      <td>...</td>\n",
       "      <td>0</td>\n",
       "      <td>0.051917</td>\n",
       "      <td>0.106937</td>\n",
       "      <td>0.073752</td>\n",
       "      <td>0.069779</td>\n",
       "      <td>0.066899</td>\n",
       "      <td>0.321564</td>\n",
       "      <td>0.102736</td>\n",
       "      <td>0.115141</td>\n",
       "      <td>0</td>\n",
       "    </tr>\n",
       "    <tr>\n",
       "      <th>3</th>\n",
       "      <td>4</td>\n",
       "      <td>50000.0</td>\n",
       "      <td>2</td>\n",
       "      <td>2</td>\n",
       "      <td>1</td>\n",
       "      <td>37</td>\n",
       "      <td>0</td>\n",
       "      <td>0</td>\n",
       "      <td>0</td>\n",
       "      <td>0</td>\n",
       "      <td>...</td>\n",
       "      <td>0</td>\n",
       "      <td>0.042562</td>\n",
       "      <td>0.041859</td>\n",
       "      <td>0.024345</td>\n",
       "      <td>0.038850</td>\n",
       "      <td>0.036914</td>\n",
       "      <td>0.033844</td>\n",
       "      <td>0.006722</td>\n",
       "      <td>0.036396</td>\n",
       "      <td>0</td>\n",
       "    </tr>\n",
       "    <tr>\n",
       "      <th>4</th>\n",
       "      <td>5</td>\n",
       "      <td>50000.0</td>\n",
       "      <td>1</td>\n",
       "      <td>2</td>\n",
       "      <td>1</td>\n",
       "      <td>57</td>\n",
       "      <td>-1</td>\n",
       "      <td>0</td>\n",
       "      <td>-1</td>\n",
       "      <td>0</td>\n",
       "      <td>...</td>\n",
       "      <td>0</td>\n",
       "      <td>0.232099</td>\n",
       "      <td>6.469312</td>\n",
       "      <td>0.279057</td>\n",
       "      <td>0.429799</td>\n",
       "      <td>0.035987</td>\n",
       "      <td>0.035492</td>\n",
       "      <td>2.562874</td>\n",
       "      <td>1.246958</td>\n",
       "      <td>0</td>\n",
       "    </tr>\n",
       "    <tr>\n",
       "      <th>...</th>\n",
       "      <td>...</td>\n",
       "      <td>...</td>\n",
       "      <td>...</td>\n",
       "      <td>...</td>\n",
       "      <td>...</td>\n",
       "      <td>...</td>\n",
       "      <td>...</td>\n",
       "      <td>...</td>\n",
       "      <td>...</td>\n",
       "      <td>...</td>\n",
       "      <td>...</td>\n",
       "      <td>...</td>\n",
       "      <td>...</td>\n",
       "      <td>...</td>\n",
       "      <td>...</td>\n",
       "      <td>...</td>\n",
       "      <td>...</td>\n",
       "      <td>...</td>\n",
       "      <td>...</td>\n",
       "      <td>...</td>\n",
       "      <td>...</td>\n",
       "    </tr>\n",
       "    <tr>\n",
       "      <th>29995</th>\n",
       "      <td>29996</td>\n",
       "      <td>220000.0</td>\n",
       "      <td>1</td>\n",
       "      <td>3</td>\n",
       "      <td>1</td>\n",
       "      <td>39</td>\n",
       "      <td>0</td>\n",
       "      <td>0</td>\n",
       "      <td>0</td>\n",
       "      <td>0</td>\n",
       "      <td>...</td>\n",
       "      <td>0</td>\n",
       "      <td>0.044986</td>\n",
       "      <td>0.103726</td>\n",
       "      <td>0.024011</td>\n",
       "      <td>0.034623</td>\n",
       "      <td>0.160067</td>\n",
       "      <td>0.062578</td>\n",
       "      <td>0.051537</td>\n",
       "      <td>0.071665</td>\n",
       "      <td>0</td>\n",
       "    </tr>\n",
       "    <tr>\n",
       "      <th>29996</th>\n",
       "      <td>29997</td>\n",
       "      <td>150000.0</td>\n",
       "      <td>1</td>\n",
       "      <td>3</td>\n",
       "      <td>2</td>\n",
       "      <td>43</td>\n",
       "      <td>-1</td>\n",
       "      <td>-1</td>\n",
       "      <td>-1</td>\n",
       "      <td>-1</td>\n",
       "      <td>...</td>\n",
       "      <td>0</td>\n",
       "      <td>1.091503</td>\n",
       "      <td>1.928884</td>\n",
       "      <td>2.569389</td>\n",
       "      <td>0.014367</td>\n",
       "      <td>0.000000</td>\n",
       "      <td>NaN</td>\n",
       "      <td>1.143750</td>\n",
       "      <td>1.120829</td>\n",
       "      <td>0</td>\n",
       "    </tr>\n",
       "    <tr>\n",
       "      <th>29997</th>\n",
       "      <td>29998</td>\n",
       "      <td>30000.0</td>\n",
       "      <td>1</td>\n",
       "      <td>2</td>\n",
       "      <td>2</td>\n",
       "      <td>37</td>\n",
       "      <td>4</td>\n",
       "      <td>3</td>\n",
       "      <td>2</td>\n",
       "      <td>-1</td>\n",
       "      <td>...</td>\n",
       "      <td>3</td>\n",
       "      <td>0.000000</td>\n",
       "      <td>0.000000</td>\n",
       "      <td>7.976795</td>\n",
       "      <td>0.201169</td>\n",
       "      <td>0.097172</td>\n",
       "      <td>0.160149</td>\n",
       "      <td>3.220118</td>\n",
       "      <td>1.405881</td>\n",
       "      <td>4</td>\n",
       "    </tr>\n",
       "    <tr>\n",
       "      <th>29998</th>\n",
       "      <td>29999</td>\n",
       "      <td>80000.0</td>\n",
       "      <td>1</td>\n",
       "      <td>3</td>\n",
       "      <td>1</td>\n",
       "      <td>41</td>\n",
       "      <td>1</td>\n",
       "      <td>-1</td>\n",
       "      <td>0</td>\n",
       "      <td>0</td>\n",
       "      <td>...</td>\n",
       "      <td>1</td>\n",
       "      <td>-52.218845</td>\n",
       "      <td>0.043494</td>\n",
       "      <td>0.015438</td>\n",
       "      <td>0.036495</td>\n",
       "      <td>4.467651</td>\n",
       "      <td>0.036858</td>\n",
       "      <td>21.766239</td>\n",
       "      <td>-7.936485</td>\n",
       "      <td>1</td>\n",
       "    </tr>\n",
       "    <tr>\n",
       "      <th>29999</th>\n",
       "      <td>30000</td>\n",
       "      <td>50000.0</td>\n",
       "      <td>1</td>\n",
       "      <td>2</td>\n",
       "      <td>1</td>\n",
       "      <td>46</td>\n",
       "      <td>0</td>\n",
       "      <td>0</td>\n",
       "      <td>0</td>\n",
       "      <td>0</td>\n",
       "      <td>...</td>\n",
       "      <td>0</td>\n",
       "      <td>0.043356</td>\n",
       "      <td>0.036806</td>\n",
       "      <td>0.028736</td>\n",
       "      <td>0.027371</td>\n",
       "      <td>0.030838</td>\n",
       "      <td>0.065304</td>\n",
       "      <td>0.014300</td>\n",
       "      <td>0.038735</td>\n",
       "      <td>0</td>\n",
       "    </tr>\n",
       "  </tbody>\n",
       "</table>\n",
       "<p>30000 rows × 35 columns</p>\n",
       "</div>"
      ],
      "text/plain": [
       "          ID  LIMIT_BAL  SEX  EDUCATION  MARRIAGE  AGE  PAY_0  PAY_2  PAY_3  \\\n",
       "0          1    20000.0    2          2         1   24      2      2     -1   \n",
       "1          2   120000.0    2          2         2   26     -1      2      0   \n",
       "2          3    90000.0    2          2         2   34      0      0      0   \n",
       "3          4    50000.0    2          2         1   37      0      0      0   \n",
       "4          5    50000.0    1          2         1   57     -1      0     -1   \n",
       "...      ...        ...  ...        ...       ...  ...    ...    ...    ...   \n",
       "29995  29996   220000.0    1          3         1   39      0      0      0   \n",
       "29996  29997   150000.0    1          3         2   43     -1     -1     -1   \n",
       "29997  29998    30000.0    1          2         2   37      4      3      2   \n",
       "29998  29999    80000.0    1          3         1   41      1     -1      0   \n",
       "29999  30000    50000.0    1          2         1   46      0      0      0   \n",
       "\n",
       "       PAY_4  ...  LATE_COUNT    RATIO_1   RATIO_2   RATIO_3   RATIO_4  \\\n",
       "0         -1  ...           2   0.000000  0.222115  0.000000       NaN   \n",
       "1          0  ...           2   0.000000  0.579710  0.372856  0.305623   \n",
       "2          0  ...           0   0.051917  0.106937  0.073752  0.069779   \n",
       "3          0  ...           0   0.042562  0.041859  0.024345  0.038850   \n",
       "4          0  ...           0   0.232099  6.469312  0.279057  0.429799   \n",
       "...      ...  ...         ...        ...       ...       ...       ...   \n",
       "29995      0  ...           0   0.044986  0.103726  0.024011  0.034623   \n",
       "29996     -1  ...           0   1.091503  1.928884  2.569389  0.014367   \n",
       "29997     -1  ...           3   0.000000  0.000000  7.976795  0.201169   \n",
       "29998      0  ...           1 -52.218845  0.043494  0.015438  0.036495   \n",
       "29999      0  ...           0   0.043356  0.036806  0.028736  0.027371   \n",
       "\n",
       "        RATIO_5   RATIO_6  RATIO_STD  RATIO_MEAN  MAX_DELINQUENCY  \n",
       "0           NaN       NaN   0.128238    0.074038                2  \n",
       "1      0.000000  0.613309   0.268659    0.311916                2  \n",
       "2      0.066899  0.321564   0.102736    0.115141                0  \n",
       "3      0.036914  0.033844   0.006722    0.036396                0  \n",
       "4      0.035987  0.035492   2.562874    1.246958                0  \n",
       "...         ...       ...        ...         ...              ...  \n",
       "29995  0.160067  0.062578   0.051537    0.071665                0  \n",
       "29996  0.000000       NaN   1.143750    1.120829                0  \n",
       "29997  0.097172  0.160149   3.220118    1.405881                4  \n",
       "29998  4.467651  0.036858  21.766239   -7.936485                1  \n",
       "29999  0.030838  0.065304   0.014300    0.038735                0  \n",
       "\n",
       "[30000 rows x 35 columns]"
      ]
     },
     "execution_count": 63,
     "metadata": {},
     "output_type": "execute_result"
    }
   ],
   "source": [
    "# Count how frequent a customer was late\n",
    "credit_card_df[\"LATE_COUNT\"] = (credit_card_df[[\"PAY_0\", \"PAY_2\", \"PAY_3\", \"PAY_4\", \"PAY_5\", \"PAY_6\"]] > 0).sum(axis=1)\n",
    "\n",
    "# Get statistics about ratio of amt paid\n",
    "bill_cols = [f\"BILL_AMT{i}\" for i in range(1, 7)]\n",
    "pay_cols  = [f\"PAY_AMT{i}\" for i in range(1, 7)]\n",
    "\n",
    "for i in range(1, 7):\n",
    "    credit_card_df[f\"RATIO_{i}\"] = credit_card_df[f\"PAY_AMT{i}\"] / train_df[f\"BILL_AMT{i}\"].replace(0, np.nan)\n",
    "\n",
    "ratio_cols = [f\"RATIO_{i}\" for i in range(1, 7)]\n",
    "credit_card_df[\"RATIO_STD\"] = credit_card_df[ratio_cols].std(axis=1)   # Payment consistency (volatility)\n",
    "credit_card_df[\"RATIO_MEAN\"] = credit_card_df[ratio_cols].mean(axis=1)  # Average payment-to-bill ratio\n",
    "# Get Max delinquency\n",
    "credit_card_df[\"MAX_DELINQUENCY\"] = credit_card_df[[\"PAY_0\", \"PAY_2\", \"PAY_3\", \"PAY_4\", \"PAY_5\", \"PAY_6\"]].max(axis=1)\n",
    "\n",
    "credit_card_df"
   ]
  },
  {
   "cell_type": "markdown",
   "metadata": {
    "deletable": false,
    "editable": false
   },
   "source": [
    "<!-- END QUESTION -->\n",
    "\n",
    "<br><br>"
   ]
  },
  {
   "cell_type": "markdown",
   "metadata": {
    "deletable": false,
    "editable": false
   },
   "source": [
    "<!-- BEGIN QUESTION -->\n",
    "\n",
    "## 5. Preprocessing and transformations <a name=\"5\"></a>\n",
    "<hr>\n",
    "rubric={points:10}\n",
    "\n",
    "**Your tasks:**\n",
    "\n",
    "1. Identify different feature types and the transformations you would apply on each feature type. \n",
    "2. Define a column transformer, if necessary. "
   ]
  },
  {
   "cell_type": "markdown",
   "metadata": {
    "deletable": false,
    "editable": false
   },
   "source": [
    "<div class=\"alert alert-warning\">\n",
    "    \n",
    "Solution_5\n",
    "    \n",
    "</div>\n",
    "\n",
    "_Points:_ 10"
   ]
  },
  {
   "cell_type": "code",
   "execution_count": 64,
   "metadata": {
    "tags": []
   },
   "outputs": [
    {
     "data": {
      "text/html": [
       "<div>\n",
       "<style scoped>\n",
       "    .dataframe tbody tr th:only-of-type {\n",
       "        vertical-align: middle;\n",
       "    }\n",
       "\n",
       "    .dataframe tbody tr th {\n",
       "        vertical-align: top;\n",
       "    }\n",
       "\n",
       "    .dataframe thead th {\n",
       "        text-align: right;\n",
       "    }\n",
       "</style>\n",
       "<table border=\"1\" class=\"dataframe\">\n",
       "  <thead>\n",
       "    <tr style=\"text-align: right;\">\n",
       "      <th></th>\n",
       "      <th>LIMIT_BAL</th>\n",
       "      <th>EDUCATION</th>\n",
       "      <th>MARRIAGE</th>\n",
       "      <th>AGE</th>\n",
       "      <th>LATE_COUNT</th>\n",
       "      <th>RATIO_STD</th>\n",
       "      <th>RATIO_MEAN</th>\n",
       "      <th>MAX_DELINQUENCY</th>\n",
       "    </tr>\n",
       "  </thead>\n",
       "  <tbody>\n",
       "    <tr>\n",
       "      <th>16395</th>\n",
       "      <td>320000.0</td>\n",
       "      <td>1</td>\n",
       "      <td>2</td>\n",
       "      <td>36</td>\n",
       "      <td>0</td>\n",
       "      <td>0.715682</td>\n",
       "      <td>0.398573</td>\n",
       "      <td>0</td>\n",
       "    </tr>\n",
       "    <tr>\n",
       "      <th>21448</th>\n",
       "      <td>440000.0</td>\n",
       "      <td>1</td>\n",
       "      <td>2</td>\n",
       "      <td>30</td>\n",
       "      <td>0</td>\n",
       "      <td>58.090863</td>\n",
       "      <td>24.280495</td>\n",
       "      <td>0</td>\n",
       "    </tr>\n",
       "    <tr>\n",
       "      <th>20034</th>\n",
       "      <td>160000.0</td>\n",
       "      <td>3</td>\n",
       "      <td>1</td>\n",
       "      <td>44</td>\n",
       "      <td>0</td>\n",
       "      <td>0.000000</td>\n",
       "      <td>0.000000</td>\n",
       "      <td>-2</td>\n",
       "    </tr>\n",
       "    <tr>\n",
       "      <th>25755</th>\n",
       "      <td>120000.0</td>\n",
       "      <td>2</td>\n",
       "      <td>1</td>\n",
       "      <td>30</td>\n",
       "      <td>0</td>\n",
       "      <td>0.009165</td>\n",
       "      <td>0.037254</td>\n",
       "      <td>0</td>\n",
       "    </tr>\n",
       "    <tr>\n",
       "      <th>1438</th>\n",
       "      <td>50000.0</td>\n",
       "      <td>2</td>\n",
       "      <td>2</td>\n",
       "      <td>54</td>\n",
       "      <td>2</td>\n",
       "      <td>0.020443</td>\n",
       "      <td>0.036504</td>\n",
       "      <td>2</td>\n",
       "    </tr>\n",
       "    <tr>\n",
       "      <th>...</th>\n",
       "      <td>...</td>\n",
       "      <td>...</td>\n",
       "      <td>...</td>\n",
       "      <td>...</td>\n",
       "      <td>...</td>\n",
       "      <td>...</td>\n",
       "      <td>...</td>\n",
       "      <td>...</td>\n",
       "    </tr>\n",
       "    <tr>\n",
       "      <th>28636</th>\n",
       "      <td>380000.0</td>\n",
       "      <td>2</td>\n",
       "      <td>1</td>\n",
       "      <td>37</td>\n",
       "      <td>1</td>\n",
       "      <td>0.063160</td>\n",
       "      <td>0.099916</td>\n",
       "      <td>2</td>\n",
       "    </tr>\n",
       "    <tr>\n",
       "      <th>17730</th>\n",
       "      <td>360000.0</td>\n",
       "      <td>1</td>\n",
       "      <td>1</td>\n",
       "      <td>54</td>\n",
       "      <td>1</td>\n",
       "      <td>1.553251</td>\n",
       "      <td>0.896770</td>\n",
       "      <td>1</td>\n",
       "    </tr>\n",
       "    <tr>\n",
       "      <th>28030</th>\n",
       "      <td>50000.0</td>\n",
       "      <td>3</td>\n",
       "      <td>1</td>\n",
       "      <td>29</td>\n",
       "      <td>0</td>\n",
       "      <td>0.006244</td>\n",
       "      <td>0.035902</td>\n",
       "      <td>0</td>\n",
       "    </tr>\n",
       "    <tr>\n",
       "      <th>15725</th>\n",
       "      <td>30000.0</td>\n",
       "      <td>2</td>\n",
       "      <td>2</td>\n",
       "      <td>21</td>\n",
       "      <td>0</td>\n",
       "      <td>0.031962</td>\n",
       "      <td>0.046154</td>\n",
       "      <td>0</td>\n",
       "    </tr>\n",
       "    <tr>\n",
       "      <th>19966</th>\n",
       "      <td>370000.0</td>\n",
       "      <td>1</td>\n",
       "      <td>1</td>\n",
       "      <td>36</td>\n",
       "      <td>0</td>\n",
       "      <td>4.528284</td>\n",
       "      <td>3.668842</td>\n",
       "      <td>-2</td>\n",
       "    </tr>\n",
       "  </tbody>\n",
       "</table>\n",
       "<p>21000 rows × 8 columns</p>\n",
       "</div>"
      ],
      "text/plain": [
       "       LIMIT_BAL  EDUCATION  MARRIAGE  AGE  LATE_COUNT  RATIO_STD  RATIO_MEAN  \\\n",
       "16395   320000.0          1         2   36           0   0.715682    0.398573   \n",
       "21448   440000.0          1         2   30           0  58.090863   24.280495   \n",
       "20034   160000.0          3         1   44           0   0.000000    0.000000   \n",
       "25755   120000.0          2         1   30           0   0.009165    0.037254   \n",
       "1438     50000.0          2         2   54           2   0.020443    0.036504   \n",
       "...          ...        ...       ...  ...         ...        ...         ...   \n",
       "28636   380000.0          2         1   37           1   0.063160    0.099916   \n",
       "17730   360000.0          1         1   54           1   1.553251    0.896770   \n",
       "28030    50000.0          3         1   29           0   0.006244    0.035902   \n",
       "15725    30000.0          2         2   21           0   0.031962    0.046154   \n",
       "19966   370000.0          1         1   36           0   4.528284    3.668842   \n",
       "\n",
       "       MAX_DELINQUENCY  \n",
       "16395                0  \n",
       "21448                0  \n",
       "20034               -2  \n",
       "25755                0  \n",
       "1438                 2  \n",
       "...                ...  \n",
       "28636                2  \n",
       "17730                1  \n",
       "28030                0  \n",
       "15725                0  \n",
       "19966               -2  \n",
       "\n",
       "[21000 rows x 8 columns]"
      ]
     },
     "execution_count": 64,
     "metadata": {},
     "output_type": "execute_result"
    }
   ],
   "source": [
    "credit_card_df = credit_card_df.drop(columns = [\"ID\", \"SEX\", \"PAY_0\", \"PAY_2\", \"PAY_3\", \"PAY_4\", \"PAY_5\", \"PAY_6\"] + \n",
    "                        bill_cols + pay_cols + ratio_cols)\n",
    "X = credit_card_df.drop(columns=[\"default.payment.next.month\"])\n",
    "y = credit_card_df[\"default.payment.next.month\"]\n",
    "\n",
    "X_train, x_test, y_train, y_test = train_test_split(X, y, test_size = 0.3, random_state = 123)\n",
    "\n",
    "\n",
    "categorical = [\"MARRIAGE\"]\n",
    "# Numerical = [\"LIMIT_BAL\", \"AGE\", \"PAY_0\", \"PAY_2\", \"PAY_3\", \"PAY_4\", \"PAY_5\", \"PAY_6\"] +  bill_cols + pay_cols + ratio_cols +\n",
    "#     [\"LATE_COUNT\", \"RATIO_STD\", \"RATIO_MEAN\", \"MAX_DELINQUENCY\"]\n",
    "numerical = [\"LIMIT_BAL\", \"AGE\", \"LATE_COUNT\", \"RATIO_STD\", \"RATIO_MEAN\", \"MAX_DELINQUENCY\"]\n",
    "passthrough = [\"EDUCATION\"]\n",
    "X_train"
   ]
  },
  {
   "cell_type": "code",
   "execution_count": 65,
   "metadata": {
    "tags": []
   },
   "outputs": [
    {
     "data": {
      "text/plain": [
       "{'pipeline-1': Pipeline(steps=[('standardscaler', StandardScaler())]),\n",
       " 'pipeline-2': Pipeline(steps=[('onehotencoder',\n",
       "                  OneHotEncoder(handle_unknown='ignore', sparse_output=False))]),\n",
       " 'passthrough': FunctionTransformer(accept_sparse=True, check_inverse=False,\n",
       "                     feature_names_out='one-to-one')}"
      ]
     },
     "execution_count": 65,
     "metadata": {},
     "output_type": "execute_result"
    }
   ],
   "source": [
    "numeric_transformer = make_pipeline(StandardScaler())\n",
    "categorical_transformer = make_pipeline(OneHotEncoder(handle_unknown=\"ignore\", sparse_output=False))\n",
    "\n",
    "preprocessor = make_column_transformer(\n",
    "    (numeric_transformer, numerical),\n",
    "    (categorical_transformer, categorical),\n",
    "    (\"passthrough\", passthrough)\n",
    ")\n",
    "preprocessor.fit(X_train)\n",
    "preprocessor.named_transformers_"
   ]
  },
  {
   "cell_type": "code",
   "execution_count": null,
   "metadata": {
    "tags": []
   },
   "outputs": [],
   "source": [
    "..."
   ]
  },
  {
   "cell_type": "code",
   "execution_count": null,
   "metadata": {
    "tags": []
   },
   "outputs": [],
   "source": [
    "..."
   ]
  },
  {
   "cell_type": "code",
   "execution_count": null,
   "metadata": {
    "tags": []
   },
   "outputs": [],
   "source": [
    "..."
   ]
  },
  {
   "cell_type": "markdown",
   "metadata": {
    "deletable": false,
    "editable": false
   },
   "source": [
    "<!-- END QUESTION -->\n",
    "\n",
    "<br><br>"
   ]
  },
  {
   "cell_type": "markdown",
   "metadata": {
    "deletable": false,
    "editable": false
   },
   "source": [
    "<!-- BEGIN QUESTION -->\n",
    "\n",
    "## 6. Baseline model <a name=\"6\"></a>\n",
    "<hr>\n",
    "rubric={points:2}\n",
    "\n",
    "**Your tasks:**\n",
    "1. Try `scikit-learn`'s baseline model and report results."
   ]
  },
  {
   "cell_type": "markdown",
   "metadata": {
    "deletable": false,
    "editable": false
   },
   "source": [
    "<div class=\"alert alert-warning\">\n",
    "    \n",
    "Solution_6\n",
    "    \n",
    "</div>\n",
    "\n",
    "_Points:_ 2"
   ]
  },
  {
   "cell_type": "code",
   "execution_count": 69,
   "metadata": {
    "tags": []
   },
   "outputs": [
    {
     "data": {
      "text/html": [
       "<div>\n",
       "<style scoped>\n",
       "    .dataframe tbody tr th:only-of-type {\n",
       "        vertical-align: middle;\n",
       "    }\n",
       "\n",
       "    .dataframe tbody tr th {\n",
       "        vertical-align: top;\n",
       "    }\n",
       "\n",
       "    .dataframe thead th {\n",
       "        text-align: right;\n",
       "    }\n",
       "</style>\n",
       "<table border=\"1\" class=\"dataframe\">\n",
       "  <thead>\n",
       "    <tr style=\"text-align: right;\">\n",
       "      <th></th>\n",
       "      <th>fit_time</th>\n",
       "      <th>score_time</th>\n",
       "      <th>test_score</th>\n",
       "      <th>train_score</th>\n",
       "    </tr>\n",
       "  </thead>\n",
       "  <tbody>\n",
       "    <tr>\n",
       "      <th>0</th>\n",
       "      <td>0.048028</td>\n",
       "      <td>0.011896</td>\n",
       "      <td>0.777143</td>\n",
       "      <td>0.776720</td>\n",
       "    </tr>\n",
       "    <tr>\n",
       "      <th>1</th>\n",
       "      <td>0.010623</td>\n",
       "      <td>0.003974</td>\n",
       "      <td>0.777143</td>\n",
       "      <td>0.776720</td>\n",
       "    </tr>\n",
       "    <tr>\n",
       "      <th>2</th>\n",
       "      <td>0.009065</td>\n",
       "      <td>0.003608</td>\n",
       "      <td>0.776667</td>\n",
       "      <td>0.776772</td>\n",
       "    </tr>\n",
       "    <tr>\n",
       "      <th>3</th>\n",
       "      <td>0.008402</td>\n",
       "      <td>0.003576</td>\n",
       "      <td>0.776667</td>\n",
       "      <td>0.776772</td>\n",
       "    </tr>\n",
       "    <tr>\n",
       "      <th>4</th>\n",
       "      <td>0.009704</td>\n",
       "      <td>0.003608</td>\n",
       "      <td>0.776667</td>\n",
       "      <td>0.776772</td>\n",
       "    </tr>\n",
       "    <tr>\n",
       "      <th>5</th>\n",
       "      <td>0.010074</td>\n",
       "      <td>0.003712</td>\n",
       "      <td>0.776667</td>\n",
       "      <td>0.776772</td>\n",
       "    </tr>\n",
       "    <tr>\n",
       "      <th>6</th>\n",
       "      <td>0.008620</td>\n",
       "      <td>0.003539</td>\n",
       "      <td>0.776667</td>\n",
       "      <td>0.776772</td>\n",
       "    </tr>\n",
       "    <tr>\n",
       "      <th>7</th>\n",
       "      <td>0.008307</td>\n",
       "      <td>0.003911</td>\n",
       "      <td>0.776667</td>\n",
       "      <td>0.776772</td>\n",
       "    </tr>\n",
       "    <tr>\n",
       "      <th>8</th>\n",
       "      <td>0.008623</td>\n",
       "      <td>0.004556</td>\n",
       "      <td>0.776667</td>\n",
       "      <td>0.776772</td>\n",
       "    </tr>\n",
       "    <tr>\n",
       "      <th>9</th>\n",
       "      <td>0.008951</td>\n",
       "      <td>0.003783</td>\n",
       "      <td>0.776667</td>\n",
       "      <td>0.776772</td>\n",
       "    </tr>\n",
       "  </tbody>\n",
       "</table>\n",
       "</div>"
      ],
      "text/plain": [
       "   fit_time  score_time  test_score  train_score\n",
       "0  0.048028    0.011896    0.777143     0.776720\n",
       "1  0.010623    0.003974    0.777143     0.776720\n",
       "2  0.009065    0.003608    0.776667     0.776772\n",
       "3  0.008402    0.003576    0.776667     0.776772\n",
       "4  0.009704    0.003608    0.776667     0.776772\n",
       "5  0.010074    0.003712    0.776667     0.776772\n",
       "6  0.008620    0.003539    0.776667     0.776772\n",
       "7  0.008307    0.003911    0.776667     0.776772\n",
       "8  0.008623    0.004556    0.776667     0.776772\n",
       "9  0.008951    0.003783    0.776667     0.776772"
      ]
     },
     "execution_count": 69,
     "metadata": {},
     "output_type": "execute_result"
    }
   ],
   "source": [
    "pipe = make_pipeline(preprocessor, DummyClassifier())\n",
    "pd.DataFrame(cross_validate(pipe, X_train, y_train, cv=10, return_train_score=True))"
   ]
  },
  {
   "cell_type": "code",
   "execution_count": null,
   "metadata": {
    "tags": []
   },
   "outputs": [],
   "source": []
  },
  {
   "cell_type": "code",
   "execution_count": null,
   "metadata": {
    "tags": []
   },
   "outputs": [],
   "source": [
    "..."
   ]
  },
  {
   "cell_type": "markdown",
   "metadata": {
    "deletable": false,
    "editable": false
   },
   "source": [
    "<!-- END QUESTION -->\n",
    "\n",
    "<br><br>"
   ]
  },
  {
   "cell_type": "markdown",
   "metadata": {
    "deletable": false,
    "editable": false
   },
   "source": [
    "<!-- BEGIN QUESTION -->\n",
    "\n",
    "## 7. Linear models <a name=\"7\"></a>\n",
    "<hr>\n",
    "rubric={points:10}\n",
    "\n",
    "**Your tasks:**\n",
    "\n",
    "1. Try a linear model as a first real attempt. \n",
    "2. Carry out hyperparameter tuning to explore different values for the complexity hyperparameter. \n",
    "3. Report cross-validation scores along with standard deviation. \n",
    "4. Summarize your results."
   ]
  },
  {
   "cell_type": "markdown",
   "metadata": {
    "deletable": false,
    "editable": false
   },
   "source": [
    "<div class=\"alert alert-warning\">\n",
    "    \n",
    "Solution_7\n",
    "    \n",
    "</div>\n",
    "\n",
    "_Points:_ 10"
   ]
  },
  {
   "cell_type": "markdown",
   "metadata": {},
   "source": [
    "_Type your answer here, replacing this text._"
   ]
  },
  {
   "cell_type": "code",
   "execution_count": null,
   "metadata": {
    "tags": []
   },
   "outputs": [],
   "source": [
    "..."
   ]
  },
  {
   "cell_type": "code",
   "execution_count": null,
   "metadata": {
    "tags": []
   },
   "outputs": [],
   "source": [
    "..."
   ]
  },
  {
   "cell_type": "code",
   "execution_count": null,
   "metadata": {
    "tags": []
   },
   "outputs": [],
   "source": [
    "..."
   ]
  },
  {
   "cell_type": "code",
   "execution_count": null,
   "metadata": {
    "tags": []
   },
   "outputs": [],
   "source": [
    "..."
   ]
  },
  {
   "cell_type": "markdown",
   "metadata": {
    "deletable": false,
    "editable": false
   },
   "source": [
    "<!-- END QUESTION -->\n",
    "\n",
    "<br><br>"
   ]
  },
  {
   "cell_type": "markdown",
   "metadata": {
    "deletable": false,
    "editable": false
   },
   "source": [
    "<!-- BEGIN QUESTION -->\n",
    "\n",
    "## 8. Different models <a name=\"8\"></a>\n",
    "<hr>\n",
    "rubric={points:12}\n",
    "\n",
    "**Your tasks:**\n",
    "1. Try at least 3 other models aside from a linear model. One of these models should be a tree-based ensemble model. \n",
    "2. Summarize your results in terms of overfitting/underfitting and fit and score times. Can you beat a linear model? "
   ]
  },
  {
   "cell_type": "markdown",
   "metadata": {
    "deletable": false,
    "editable": false
   },
   "source": [
    "<div class=\"alert alert-warning\">\n",
    "    \n",
    "Solution_8\n",
    "    \n",
    "</div>\n",
    "\n",
    "_Points:_ 12"
   ]
  },
  {
   "cell_type": "markdown",
   "metadata": {},
   "source": [
    "_Type your answer here, replacing this text._"
   ]
  },
  {
   "cell_type": "code",
   "execution_count": null,
   "metadata": {
    "tags": []
   },
   "outputs": [],
   "source": [
    "..."
   ]
  },
  {
   "cell_type": "code",
   "execution_count": null,
   "metadata": {
    "tags": []
   },
   "outputs": [],
   "source": [
    "..."
   ]
  },
  {
   "cell_type": "code",
   "execution_count": null,
   "metadata": {
    "tags": []
   },
   "outputs": [],
   "source": [
    "..."
   ]
  },
  {
   "cell_type": "markdown",
   "metadata": {
    "deletable": false,
    "editable": false
   },
   "source": [
    "<!-- END QUESTION -->\n",
    "\n",
    "<br><br>"
   ]
  },
  {
   "cell_type": "markdown",
   "metadata": {
    "deletable": false,
    "editable": false
   },
   "source": [
    "<!-- BEGIN QUESTION -->\n",
    "\n",
    "## 9. Feature selection <a name=\"9\"></a>\n",
    "<hr>\n",
    "rubric={points:2}\n",
    "\n",
    "**Your tasks:**\n",
    "\n",
    "Make some attempts to select relevant features. You may try `RFECV` or forward selection for this. Do the results improve with feature selection? Summarize your results. If you see improvements in the results, keep feature selection in your pipeline. If not, you may abandon it in the next exercises. "
   ]
  },
  {
   "cell_type": "markdown",
   "metadata": {
    "deletable": false,
    "editable": false
   },
   "source": [
    "<div class=\"alert alert-warning\">\n",
    "    \n",
    "Solution_9\n",
    "    \n",
    "</div>\n",
    "\n",
    "_Points:_ 2"
   ]
  },
  {
   "cell_type": "markdown",
   "metadata": {},
   "source": [
    "_Type your answer here, replacing this text._"
   ]
  },
  {
   "cell_type": "code",
   "execution_count": null,
   "metadata": {
    "tags": []
   },
   "outputs": [],
   "source": [
    "..."
   ]
  },
  {
   "cell_type": "code",
   "execution_count": null,
   "metadata": {
    "tags": []
   },
   "outputs": [],
   "source": [
    "..."
   ]
  },
  {
   "cell_type": "code",
   "execution_count": null,
   "metadata": {
    "tags": []
   },
   "outputs": [],
   "source": [
    "..."
   ]
  },
  {
   "cell_type": "markdown",
   "metadata": {
    "deletable": false,
    "editable": false
   },
   "source": [
    "<!-- END QUESTION -->\n",
    "\n",
    "<br><br>"
   ]
  },
  {
   "cell_type": "markdown",
   "metadata": {
    "deletable": false,
    "editable": false
   },
   "source": [
    "<!-- BEGIN QUESTION -->\n",
    "\n",
    "## 10. Hyperparameter optimization <a name=\"10\"></a>\n",
    "<hr>\n",
    "rubric={points:10}\n",
    "\n",
    "**Your tasks:**\n",
    "\n",
    "Make some attempts to optimize hyperparameters for the models you've tried and summarize your results. In at least one case you should be optimizing multiple hyperparameters for a single model. You may use `sklearn`'s methods for hyperparameter optimization or fancier Bayesian optimization methods. \n",
    "  - [GridSearchCV](http://scikit-learn.org/stable/modules/generated/sklearn.model_selection.GridSearchCV.html)   \n",
    "  - [RandomizedSearchCV](http://scikit-learn.org/stable/modules/generated/sklearn.model_selection.RandomizedSearchCV.html)\n",
    "  - [scikit-optimize](https://github.com/scikit-optimize/scikit-optimize) "
   ]
  },
  {
   "cell_type": "markdown",
   "metadata": {
    "deletable": false,
    "editable": false
   },
   "source": [
    "<div class=\"alert alert-warning\">\n",
    "    \n",
    "Solution_10\n",
    "    \n",
    "</div>\n",
    "\n",
    "_Points:_ 10"
   ]
  },
  {
   "cell_type": "markdown",
   "metadata": {},
   "source": [
    "_Type your answer here, replacing this text._"
   ]
  },
  {
   "cell_type": "code",
   "execution_count": null,
   "metadata": {
    "tags": []
   },
   "outputs": [],
   "source": [
    "..."
   ]
  },
  {
   "cell_type": "code",
   "execution_count": null,
   "metadata": {
    "tags": []
   },
   "outputs": [],
   "source": [
    "..."
   ]
  },
  {
   "cell_type": "code",
   "execution_count": null,
   "metadata": {
    "tags": []
   },
   "outputs": [],
   "source": [
    "..."
   ]
  },
  {
   "cell_type": "code",
   "execution_count": null,
   "metadata": {
    "tags": []
   },
   "outputs": [],
   "source": [
    "..."
   ]
  },
  {
   "cell_type": "code",
   "execution_count": null,
   "metadata": {
    "tags": []
   },
   "outputs": [],
   "source": [
    "..."
   ]
  },
  {
   "cell_type": "code",
   "execution_count": null,
   "metadata": {
    "tags": []
   },
   "outputs": [],
   "source": [
    "..."
   ]
  },
  {
   "cell_type": "code",
   "execution_count": null,
   "metadata": {
    "tags": []
   },
   "outputs": [],
   "source": [
    "..."
   ]
  },
  {
   "cell_type": "code",
   "execution_count": null,
   "metadata": {
    "tags": []
   },
   "outputs": [],
   "source": [
    "..."
   ]
  },
  {
   "cell_type": "markdown",
   "metadata": {
    "deletable": false,
    "editable": false
   },
   "source": [
    "<!-- END QUESTION -->\n",
    "\n",
    "<br><br>"
   ]
  },
  {
   "cell_type": "markdown",
   "metadata": {
    "deletable": false,
    "editable": false
   },
   "source": [
    "<!-- BEGIN QUESTION -->\n",
    "\n",
    "## 11. Interpretation and feature importances <a name=\"1\"></a>\n",
    "<hr>\n",
    "rubric={points:10}\n",
    "\n",
    "**Your tasks:**\n",
    "\n",
    "1. Use the methods we saw in class (e.g., `shap`) (or any other methods of your choice) to examine the most important features of one of the non-linear models. \n",
    "2. Summarize your observations. "
   ]
  },
  {
   "cell_type": "markdown",
   "metadata": {
    "deletable": false,
    "editable": false
   },
   "source": [
    "<div class=\"alert alert-warning\">\n",
    "    \n",
    "Solution_11\n",
    "    \n",
    "</div>\n",
    "\n",
    "_Points:_ 10"
   ]
  },
  {
   "cell_type": "markdown",
   "metadata": {},
   "source": [
    "_Type your answer here, replacing this text._"
   ]
  },
  {
   "cell_type": "code",
   "execution_count": null,
   "metadata": {
    "tags": []
   },
   "outputs": [],
   "source": [
    "..."
   ]
  },
  {
   "cell_type": "code",
   "execution_count": null,
   "metadata": {
    "tags": []
   },
   "outputs": [],
   "source": [
    "..."
   ]
  },
  {
   "cell_type": "code",
   "execution_count": null,
   "metadata": {
    "tags": []
   },
   "outputs": [],
   "source": [
    "..."
   ]
  },
  {
   "cell_type": "code",
   "execution_count": null,
   "metadata": {
    "tags": []
   },
   "outputs": [],
   "source": [
    "..."
   ]
  },
  {
   "cell_type": "code",
   "execution_count": null,
   "metadata": {
    "tags": []
   },
   "outputs": [],
   "source": [
    "..."
   ]
  },
  {
   "cell_type": "code",
   "execution_count": null,
   "metadata": {
    "tags": []
   },
   "outputs": [],
   "source": [
    "..."
   ]
  },
  {
   "cell_type": "code",
   "execution_count": null,
   "metadata": {
    "tags": []
   },
   "outputs": [],
   "source": [
    "..."
   ]
  },
  {
   "cell_type": "code",
   "execution_count": null,
   "metadata": {
    "tags": []
   },
   "outputs": [],
   "source": [
    "..."
   ]
  },
  {
   "cell_type": "code",
   "execution_count": null,
   "metadata": {
    "tags": []
   },
   "outputs": [],
   "source": [
    "..."
   ]
  },
  {
   "cell_type": "code",
   "execution_count": null,
   "metadata": {
    "tags": []
   },
   "outputs": [],
   "source": [
    "..."
   ]
  },
  {
   "cell_type": "markdown",
   "metadata": {
    "deletable": false,
    "editable": false
   },
   "source": [
    "<!-- END QUESTION -->\n",
    "\n",
    "<br><br>"
   ]
  },
  {
   "cell_type": "markdown",
   "metadata": {
    "deletable": false,
    "editable": false,
    "tags": []
   },
   "source": [
    "<!-- BEGIN QUESTION -->\n",
    "\n",
    "## 12. Results on the test set <a name=\"12\"></a>\n",
    "<hr>\n",
    "\n",
    "rubric={points:10}\n",
    "\n",
    "**Your tasks:**\n",
    "\n",
    "1. Try your best performing model on the test data and report test scores. \n",
    "2. Do the test scores agree with the validation scores from before? To what extent do you trust your results? Do you think you've had issues with optimization bias? \n",
    "3. Take one or two test predictions and explain these individual predictions (e.g., with SHAP force plots).  "
   ]
  },
  {
   "cell_type": "markdown",
   "metadata": {
    "deletable": false,
    "editable": false
   },
   "source": [
    "<div class=\"alert alert-warning\">\n",
    "    \n",
    "Solution_12\n",
    "    \n",
    "</div>\n",
    "\n",
    "_Points:_ 10"
   ]
  },
  {
   "cell_type": "markdown",
   "metadata": {},
   "source": [
    "_Type your answer here, replacing this text._"
   ]
  },
  {
   "cell_type": "code",
   "execution_count": null,
   "metadata": {
    "tags": []
   },
   "outputs": [],
   "source": [
    "..."
   ]
  },
  {
   "cell_type": "code",
   "execution_count": null,
   "metadata": {
    "tags": []
   },
   "outputs": [],
   "source": [
    "..."
   ]
  },
  {
   "cell_type": "code",
   "execution_count": null,
   "metadata": {
    "tags": []
   },
   "outputs": [],
   "source": [
    "..."
   ]
  },
  {
   "cell_type": "code",
   "execution_count": null,
   "metadata": {
    "tags": []
   },
   "outputs": [],
   "source": [
    "..."
   ]
  },
  {
   "cell_type": "code",
   "execution_count": null,
   "metadata": {
    "tags": []
   },
   "outputs": [],
   "source": [
    "..."
   ]
  },
  {
   "cell_type": "code",
   "execution_count": null,
   "metadata": {
    "tags": []
   },
   "outputs": [],
   "source": [
    "..."
   ]
  },
  {
   "cell_type": "code",
   "execution_count": null,
   "metadata": {
    "tags": []
   },
   "outputs": [],
   "source": [
    "..."
   ]
  },
  {
   "cell_type": "code",
   "execution_count": null,
   "metadata": {
    "tags": []
   },
   "outputs": [],
   "source": [
    "..."
   ]
  },
  {
   "cell_type": "code",
   "execution_count": null,
   "metadata": {
    "tags": []
   },
   "outputs": [],
   "source": [
    "..."
   ]
  },
  {
   "cell_type": "code",
   "execution_count": null,
   "metadata": {
    "tags": []
   },
   "outputs": [],
   "source": [
    "..."
   ]
  },
  {
   "cell_type": "code",
   "execution_count": null,
   "metadata": {
    "tags": []
   },
   "outputs": [],
   "source": [
    "..."
   ]
  },
  {
   "cell_type": "code",
   "execution_count": null,
   "metadata": {
    "tags": []
   },
   "outputs": [],
   "source": [
    "..."
   ]
  },
  {
   "cell_type": "markdown",
   "metadata": {
    "deletable": false,
    "editable": false
   },
   "source": [
    "<!-- END QUESTION -->\n",
    "\n",
    "<br><br>"
   ]
  },
  {
   "cell_type": "markdown",
   "metadata": {
    "deletable": false,
    "editable": false
   },
   "source": [
    "<!-- BEGIN QUESTION -->\n",
    "\n",
    "## 13. Summary of results <a name=\"13\"></a>\n",
    "<hr>\n",
    "rubric={points:12}\n",
    "\n",
    "Imagine that you want to present the summary of these results to your boss and co-workers. \n",
    "\n",
    "**Your tasks:**\n",
    "\n",
    "1. Create a table summarizing important results. \n",
    "2. Write concluding remarks.\n",
    "3. Discuss other ideas that you did not try but could potentially improve the performance/interpretability . \n",
    "3. Report your final test score along with the metric you used at the top of this notebook in the [Submission instructions section](#si)."
   ]
  },
  {
   "cell_type": "markdown",
   "metadata": {
    "deletable": false,
    "editable": false
   },
   "source": [
    "<div class=\"alert alert-warning\">\n",
    "    \n",
    "Solution_13\n",
    "    \n",
    "</div>\n",
    "\n",
    "_Points:_ 12"
   ]
  },
  {
   "cell_type": "markdown",
   "metadata": {},
   "source": [
    "_Type your answer here, replacing this text._"
   ]
  },
  {
   "cell_type": "code",
   "execution_count": null,
   "metadata": {
    "tags": []
   },
   "outputs": [],
   "source": [
    "..."
   ]
  },
  {
   "cell_type": "code",
   "execution_count": null,
   "metadata": {
    "tags": []
   },
   "outputs": [],
   "source": [
    "..."
   ]
  },
  {
   "cell_type": "markdown",
   "metadata": {
    "deletable": false,
    "editable": false
   },
   "source": [
    "<!-- END QUESTION -->\n",
    "\n",
    "<br><br>"
   ]
  },
  {
   "cell_type": "markdown",
   "metadata": {},
   "source": [
    "<br><br>"
   ]
  },
  {
   "cell_type": "markdown",
   "metadata": {
    "deletable": false,
    "editable": false
   },
   "source": [
    "<!-- BEGIN QUESTION -->\n",
    "\n",
    "## 14. Your takeaway <a name=\"15\"></a>\n",
    "<hr>\n",
    "rubric={points:2}\n",
    "\n",
    "**Your tasks:**\n",
    "\n",
    "What is your biggest takeaway from the supervised machine learning material we have learned so far? Please write thoughtful answers.  "
   ]
  },
  {
   "cell_type": "markdown",
   "metadata": {
    "deletable": false,
    "editable": false
   },
   "source": [
    "<div class=\"alert alert-warning\">\n",
    "    \n",
    "Solution_14\n",
    "    \n",
    "</div>\n",
    "\n",
    "_Points:_ 2"
   ]
  },
  {
   "cell_type": "markdown",
   "metadata": {
    "deletable": false,
    "editable": false
   },
   "source": [
    "<!-- END QUESTION -->\n",
    "\n",
    "<br><br>"
   ]
  },
  {
   "cell_type": "markdown",
   "metadata": {},
   "source": [
    "**PLEASE READ BEFORE YOU SUBMIT:** \n",
    "\n",
    "When you are ready to submit your assignment do the following:\n",
    "\n",
    "1. Run all cells in your notebook to make sure there are no errors by doing `Kernel -> Restart Kernel and Clear All Outputs` and then `Run -> Run All Cells`. \n",
    "2. Notebooks with cell execution numbers out of order or not starting from \"1\" will have marks deducted. Notebooks without the output displayed may not be graded at all (because we need to see the output in order to grade your work).\n",
    "4. Upload the assignment using Gradescope's drag and drop tool. Check out this [Gradescope Student Guide](https://lthub.ubc.ca/guides/gradescope-student-guide/) if you need help with Gradescope submission. \n",
    "5. Make sure that the plots and output are rendered properly in your submitted file. If the .ipynb file is too big and doesn't render on Gradescope, also upload a pdf or html in addition to the .ipynb so that the TAs can view your submission on Gradescope. "
   ]
  },
  {
   "cell_type": "markdown",
   "metadata": {},
   "source": [
    "This was a tricky one but you did it! "
   ]
  },
  {
   "cell_type": "markdown",
   "metadata": {},
   "source": [
    "![](img/eva-well-done.png)"
   ]
  },
  {
   "cell_type": "code",
   "execution_count": null,
   "metadata": {},
   "outputs": [],
   "source": []
  }
 ],
 "metadata": {
  "kernelspec": {
   "display_name": "Python 3 (ipykernel)",
   "language": "python",
   "name": "python3"
  },
  "language_info": {
   "codemirror_mode": {
    "name": "ipython",
    "version": 3
   },
   "file_extension": ".py",
   "mimetype": "text/x-python",
   "name": "python",
   "nbconvert_exporter": "python",
   "pygments_lexer": "ipython3",
   "version": "3.12.2"
  },
  "otter": {
   "OK_FORMAT": true,
   "tests": {}
  }
 },
 "nbformat": 4,
 "nbformat_minor": 4
}
